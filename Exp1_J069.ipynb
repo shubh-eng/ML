{
  "nbformat": 4,
  "nbformat_minor": 0,
  "metadata": {
    "colab": {
      "name": "Exp1_J069.ipynb",
      "provenance": [],
      "authorship_tag": "ABX9TyP+AQkgN/krW8/i6G0lwOyL",
      "include_colab_link": true
    },
    "kernelspec": {
      "name": "python3",
      "display_name": "Python 3"
    }
  },
  "cells": [
    {
      "cell_type": "markdown",
      "metadata": {
        "id": "view-in-github",
        "colab_type": "text"
      },
      "source": [
        "<a href=\"https://colab.research.google.com/github/shubh-eng/ML/blob/master/Exp1_J069.ipynb\" target=\"_parent\"><img src=\"https://colab.research.google.com/assets/colab-badge.svg\" alt=\"Open In Colab\"/></a>"
      ]
    },
    {
      "cell_type": "code",
      "metadata": {
        "id": "Crox13LYxMxz",
        "colab_type": "code",
        "colab": {}
      },
      "source": [
        "import pandas as pd\n",
        "import numpy as np\n",
        "import seaborn as sns\n",
        "import matplotlib.pyplot as plt\n",
        "\n",
        "\n",
        "headers = [\"symboling\",\"normalized-losses\",\"make\",\"fuel-type\",\"aspiration\", \"num-of-doors\",\"body-style\",\n",
        "\"drive-wheels\",\"engine-location\",\"wheel-base\", \"length\",\"width\",\"height\",\"curb-weight\",\"engine-type\",\n",
        "\"num-of-cylinders\", \"engine-size\",\"fuel-system\",\"bore\",\"stroke\",\"compression-ratio\",\"horsepower\",\n",
        "\"peak-rpm\",\"city-mpg\",\"highway-mpg\",\"price\"]\n",
        "\n",
        "df=pd.read_csv('auto.csv',names=headers)\n",
        "\n",
        "df.replace('?',np.nan,inplace=True)\n",
        "print(df.isna().sum())\n",
        "df['price'].dropna(inplace=True)\n",
        "\n",
        "avg_norm_loss = df[\"normalized-losses\"].astype(\"float64\").mean(axis=0)\n",
        "df[\"normalized-losses\"].replace(np.nan, avg_norm_loss, inplace=True)\n",
        "\n",
        "df['normalized-losses']=df['normalized-losses'].astype('int64')\n",
        "\n",
        "avg_bore=np.mean(df['bore'].astype('float64'))\n",
        "df['bore'].replace(np.nan,avg_bore,inplace=True)\n",
        "df['bore']=df['bore'].astype('float64')\n",
        "\n",
        "avg_stroke=np.mean(df['stroke'].astype('float64'))\n",
        "df['stroke'].replace(np.nan,avg_stroke,inplace=True)\n",
        "df['stroke']=df['stroke'].astype('float64')\n",
        "\n",
        "\n",
        "avg_horsepower=np.mean(df['horsepower'].astype('float64'))\n",
        "df['horsepower'].replace(np.nan,avg_horsepower,inplace=True)\n",
        "df['horsepower']=df['horsepower'].astype('int64')\n",
        "\n",
        "avg_peak_rpm=np.mean(df['peak-rpm'].astype('float64'))\n",
        "df['peak-rpm'].replace(np.nan,avg_peak_rpm,inplace=True)\n",
        "df['peak-rpm']=df['peak-rpm'].astype('int64')\n",
        "\n",
        "mode_doors=df['num-of-doors'].mode()\n",
        "df['num-of-doors'].replace(np.nan,'four',inplace=True)\n",
        "\n",
        "df['price']=df['price'].astype('float64')\n",
        "\n",
        "\n",
        "df['city-L/100']=235/df['city-mpg']\n",
        "df['highway-L/100']=235/df['highway-mpg']\n",
        "\n",
        "max_length=max(df['length'])\n",
        "max_width=max(df['width'])\n",
        "max_height=max(df['height'])\n",
        "\n",
        "df['length']=df['length']/max_length\n",
        "df['width']=df['width']/max_width\n",
        "df['height']=df['height']/max_height\n",
        "\n",
        "\n",
        "temp = pd.cut(df['horsepower'], bins = 3, labels = ['low','medium','high'])\n",
        "df['horsepower-binned'] = temp\n",
        "\n",
        "plt.hist(df['horsepower-binned'])\n",
        "\n",
        "one_hot1 = pd.get_dummies(df['fuel-type'])\n",
        "one_hot2 = pd.get_dummies(df['aspiration'])\n",
        "df = df.join(one_hot1)\n",
        "df = df.join(one_hot2)\n",
        "df.drop(\"fuel-type\", axis = 1, inplace=True)\n",
        "df.drop(\"aspiration\", axis = 1, inplace=True)\n",
        "plt.show()\n",
        "\n"
      ],
      "execution_count": null,
      "outputs": []
    }
  ]
}