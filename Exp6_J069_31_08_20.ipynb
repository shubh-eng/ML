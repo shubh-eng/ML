{
  "nbformat": 4,
  "nbformat_minor": 0,
  "metadata": {
    "colab": {
      "name": "Exp6_J069_31/08/20.ipynb",
      "provenance": [],
      "include_colab_link": true
    },
    "kernelspec": {
      "name": "python3",
      "display_name": "Python 3"
    }
  },
  "cells": [
    {
      "cell_type": "markdown",
      "metadata": {
        "id": "view-in-github",
        "colab_type": "text"
      },
      "source": [
        "<a href=\"https://colab.research.google.com/github/shubh-eng/ML/blob/master/Exp6_J069_31_08_20.ipynb\" target=\"_parent\"><img src=\"https://colab.research.google.com/assets/colab-badge.svg\" alt=\"Open In Colab\"/></a>"
      ]
    },
    {
      "cell_type": "markdown",
      "metadata": {
        "id": "Smvtwvtg2UPt",
        "colab_type": "text"
      },
      "source": [
        "# Neural Network"
      ]
    },
    {
      "cell_type": "code",
      "metadata": {
        "id": "5lVixyKYQKnq",
        "colab_type": "code",
        "colab": {
          "base_uri": "https://localhost:8080/",
          "height": 70
        },
        "outputId": "8414662c-d064-4454-96c6-6b89e05fd86c"
      },
      "source": [
        "import numpy as np\n",
        "import pandas as pd\n",
        "\n",
        "import matplotlib.pyplot as plt\n",
        "import seaborn as sns\n",
        "\n",
        "from sklearn.model_selection import train_test_split, cross_val_score\n",
        "from sklearn.preprocessing import StandardScaler\n",
        "\n",
        "from sklearn import linear_model\n",
        "from sklearn.model_selection import GridSearchCV, RandomizedSearchCV\n",
        "\n",
        "import warnings\n",
        "warnings.filterwarnings('ignore')\n",
        "\n",
        "np.random.seed(1)"
      ],
      "execution_count": 1,
      "outputs": [
        {
          "output_type": "stream",
          "text": [
            "/usr/local/lib/python3.6/dist-packages/statsmodels/tools/_testing.py:19: FutureWarning: pandas.util.testing is deprecated. Use the functions in the public API at pandas.testing instead.\n",
            "  import pandas.util.testing as tm\n"
          ],
          "name": "stderr"
        }
      ]
    },
    {
      "cell_type": "code",
      "metadata": {
        "id": "RSWOAu3gQxuZ",
        "colab_type": "code",
        "colab": {}
      },
      "source": [
        "%matplotlib inline\n",
        "\n",
        "plt.rcParams['figure.figsize'] = [20.0, 7.0]\n",
        "plt.rcParams.update({'font.size': 22,})\n",
        "\n",
        "sns.set_palette('viridis')\n",
        "sns.set_style('white')\n",
        "sns.set_context('talk', font_scale=0.8)"
      ],
      "execution_count": 2,
      "outputs": []
    },
    {
      "cell_type": "code",
      "metadata": {
        "id": "r0-EPCbKQ7wU",
        "colab_type": "code",
        "colab": {
          "base_uri": "https://localhost:8080/",
          "height": 622
        },
        "outputId": "19a39fe3-7836-4cbf-9853-57acce7e13cb"
      },
      "source": [
        "!wget -O 2011gcn.csv https://raw.githubusercontent.com/pranavn91/blockchain/master/2011gcn.csv\n",
        "!wget -O tx2011partvertices_new.csv https://raw.githubusercontent.com/pranavn91/blockchain/master/tx2011partvertices_new.csv\n",
        "!wget -O tx2011partvertices.csv https://raw.githubusercontent.com/pranavn91/blockchain/master/tx2011partvertices.csv\n",
        "\n",
        "data1 = pd.read_csv('2011gcn.csv')\n",
        "data2 = pd.read_csv('tx2011partvertices_new.csv')\n",
        "data3 = pd.read_csv('tx2011partvertices.csv')\n",
        "\n",
        "print('data 1 Shape: ', data1.shape)\n",
        "print('data 2 Shape: ', data2.shape)\n",
        "print('data 3 Shape: ', data3.shape)"
      ],
      "execution_count": 3,
      "outputs": [
        {
          "output_type": "stream",
          "text": [
            "--2020-08-30 15:19:27--  https://raw.githubusercontent.com/pranavn91/blockchain/master/2011gcn.csv\n",
            "Resolving raw.githubusercontent.com (raw.githubusercontent.com)... 151.101.0.133, 151.101.64.133, 151.101.128.133, ...\n",
            "Connecting to raw.githubusercontent.com (raw.githubusercontent.com)|151.101.0.133|:443... connected.\n",
            "HTTP request sent, awaiting response... 200 OK\n",
            "Length: 12563086 (12M) [text/plain]\n",
            "Saving to: ‘2011gcn.csv’\n",
            "\n",
            "2011gcn.csv         100%[===================>]  11.98M  26.7MB/s    in 0.4s    \n",
            "\n",
            "2020-08-30 15:19:28 (26.7 MB/s) - ‘2011gcn.csv’ saved [12563086/12563086]\n",
            "\n",
            "--2020-08-30 15:19:28--  https://raw.githubusercontent.com/pranavn91/blockchain/master/tx2011partvertices_new.csv\n",
            "Resolving raw.githubusercontent.com (raw.githubusercontent.com)... 151.101.0.133, 151.101.64.133, 151.101.128.133, ...\n",
            "Connecting to raw.githubusercontent.com (raw.githubusercontent.com)|151.101.0.133|:443... connected.\n",
            "HTTP request sent, awaiting response... 200 OK\n",
            "Length: 12501458 (12M) [text/plain]\n",
            "Saving to: ‘tx2011partvertices_new.csv’\n",
            "\n",
            "tx2011partvertices_ 100%[===================>]  11.92M  47.0MB/s    in 0.3s    \n",
            "\n",
            "2020-08-30 15:19:28 (47.0 MB/s) - ‘tx2011partvertices_new.csv’ saved [12501458/12501458]\n",
            "\n",
            "--2020-08-30 15:19:29--  https://raw.githubusercontent.com/pranavn91/blockchain/master/tx2011partvertices.csv\n",
            "Resolving raw.githubusercontent.com (raw.githubusercontent.com)... 151.101.0.133, 151.101.64.133, 151.101.128.133, ...\n",
            "Connecting to raw.githubusercontent.com (raw.githubusercontent.com)|151.101.0.133|:443... connected.\n",
            "HTTP request sent, awaiting response... 200 OK\n",
            "Length: 1934257 (1.8M) [text/plain]\n",
            "Saving to: ‘tx2011partvertices.csv’\n",
            "\n",
            "tx2011partvertices. 100%[===================>]   1.84M  11.3MB/s    in 0.2s    \n",
            "\n",
            "2020-08-30 15:19:29 (11.3 MB/s) - ‘tx2011partvertices.csv’ saved [1934257/1934257]\n",
            "\n",
            "data 1 Shape:  (96498, 17)\n",
            "data 2 Shape:  (96498, 20)\n",
            "data 3 Shape:  (96498, 2)\n"
          ],
          "name": "stdout"
        }
      ]
    },
    {
      "cell_type": "code",
      "metadata": {
        "id": "btDiXP_xR01z",
        "colab_type": "code",
        "colab": {
          "base_uri": "https://localhost:8080/",
          "height": 195
        },
        "outputId": "4be996a9-0b97-4d1f-e6d5-7d81d1977c33"
      },
      "source": [
        "data1.rename(columns={'Unnamed: 0':'index'}, inplace=True)\n",
        "data1['index'] = data1['index'] + 1\n",
        "data1.head()"
      ],
      "execution_count": 4,
      "outputs": [
        {
          "output_type": "execute_result",
          "data": {
            "text/html": [
              "<div>\n",
              "<style scoped>\n",
              "    .dataframe tbody tr th:only-of-type {\n",
              "        vertical-align: middle;\n",
              "    }\n",
              "\n",
              "    .dataframe tbody tr th {\n",
              "        vertical-align: top;\n",
              "    }\n",
              "\n",
              "    .dataframe thead th {\n",
              "        text-align: right;\n",
              "    }\n",
              "</style>\n",
              "<table border=\"1\" class=\"dataframe\">\n",
              "  <thead>\n",
              "    <tr style=\"text-align: right;\">\n",
              "      <th></th>\n",
              "      <th>index</th>\n",
              "      <th>0</th>\n",
              "      <th>1</th>\n",
              "      <th>2</th>\n",
              "      <th>3</th>\n",
              "      <th>4</th>\n",
              "      <th>5</th>\n",
              "      <th>6</th>\n",
              "      <th>7</th>\n",
              "      <th>8</th>\n",
              "      <th>9</th>\n",
              "      <th>10</th>\n",
              "      <th>11</th>\n",
              "      <th>12</th>\n",
              "      <th>13</th>\n",
              "      <th>14</th>\n",
              "      <th>15</th>\n",
              "    </tr>\n",
              "  </thead>\n",
              "  <tbody>\n",
              "    <tr>\n",
              "      <th>0</th>\n",
              "      <td>1</td>\n",
              "      <td>0.0</td>\n",
              "      <td>4.811244e+07</td>\n",
              "      <td>0.0</td>\n",
              "      <td>0.0</td>\n",
              "      <td>5.298934e+07</td>\n",
              "      <td>0.0</td>\n",
              "      <td>5.215435e+07</td>\n",
              "      <td>0.0</td>\n",
              "      <td>0.0</td>\n",
              "      <td>4.293262e+05</td>\n",
              "      <td>3.994267e+07</td>\n",
              "      <td>6.251989e+07</td>\n",
              "      <td>0.0</td>\n",
              "      <td>0.0</td>\n",
              "      <td>2.670458e+07</td>\n",
              "      <td>8.313858e+07</td>\n",
              "    </tr>\n",
              "    <tr>\n",
              "      <th>1</th>\n",
              "      <td>2</td>\n",
              "      <td>0.0</td>\n",
              "      <td>3.477977e+05</td>\n",
              "      <td>0.0</td>\n",
              "      <td>0.0</td>\n",
              "      <td>3.777575e+05</td>\n",
              "      <td>0.0</td>\n",
              "      <td>3.757520e+05</td>\n",
              "      <td>0.0</td>\n",
              "      <td>0.0</td>\n",
              "      <td>6.889133e+03</td>\n",
              "      <td>3.001618e+05</td>\n",
              "      <td>4.527358e+05</td>\n",
              "      <td>0.0</td>\n",
              "      <td>0.0</td>\n",
              "      <td>1.915057e+05</td>\n",
              "      <td>6.009039e+05</td>\n",
              "    </tr>\n",
              "    <tr>\n",
              "      <th>2</th>\n",
              "      <td>3</td>\n",
              "      <td>0.0</td>\n",
              "      <td>6.455196e+07</td>\n",
              "      <td>0.0</td>\n",
              "      <td>0.0</td>\n",
              "      <td>7.110790e+07</td>\n",
              "      <td>0.0</td>\n",
              "      <td>6.997804e+07</td>\n",
              "      <td>0.0</td>\n",
              "      <td>0.0</td>\n",
              "      <td>5.670157e+05</td>\n",
              "      <td>5.356332e+07</td>\n",
              "      <td>8.388026e+07</td>\n",
              "      <td>0.0</td>\n",
              "      <td>0.0</td>\n",
              "      <td>3.583296e+07</td>\n",
              "      <td>1.115463e+08</td>\n",
              "    </tr>\n",
              "    <tr>\n",
              "      <th>3</th>\n",
              "      <td>4</td>\n",
              "      <td>0.0</td>\n",
              "      <td>2.009876e+08</td>\n",
              "      <td>0.0</td>\n",
              "      <td>0.0</td>\n",
              "      <td>2.214679e+08</td>\n",
              "      <td>0.0</td>\n",
              "      <td>2.174101e+08</td>\n",
              "      <td>0.0</td>\n",
              "      <td>0.0</td>\n",
              "      <td>1.342720e+06</td>\n",
              "      <td>1.665389e+08</td>\n",
              "      <td>2.614420e+08</td>\n",
              "      <td>0.0</td>\n",
              "      <td>0.0</td>\n",
              "      <td>1.116514e+08</td>\n",
              "      <td>3.472892e+08</td>\n",
              "    </tr>\n",
              "    <tr>\n",
              "      <th>4</th>\n",
              "      <td>5</td>\n",
              "      <td>0.0</td>\n",
              "      <td>2.384675e+05</td>\n",
              "      <td>0.0</td>\n",
              "      <td>0.0</td>\n",
              "      <td>2.597246e+05</td>\n",
              "      <td>0.0</td>\n",
              "      <td>2.577884e+05</td>\n",
              "      <td>0.0</td>\n",
              "      <td>0.0</td>\n",
              "      <td>4.202993e+03</td>\n",
              "      <td>2.042845e+05</td>\n",
              "      <td>3.103489e+05</td>\n",
              "      <td>0.0</td>\n",
              "      <td>0.0</td>\n",
              "      <td>1.315073e+05</td>\n",
              "      <td>4.120424e+05</td>\n",
              "    </tr>\n",
              "  </tbody>\n",
              "</table>\n",
              "</div>"
            ],
            "text/plain": [
              "   index    0             1    2  ...   12   13            14            15\n",
              "0      1  0.0  4.811244e+07  0.0  ...  0.0  0.0  2.670458e+07  8.313858e+07\n",
              "1      2  0.0  3.477977e+05  0.0  ...  0.0  0.0  1.915057e+05  6.009039e+05\n",
              "2      3  0.0  6.455196e+07  0.0  ...  0.0  0.0  3.583296e+07  1.115463e+08\n",
              "3      4  0.0  2.009876e+08  0.0  ...  0.0  0.0  1.116514e+08  3.472892e+08\n",
              "4      5  0.0  2.384675e+05  0.0  ...  0.0  0.0  1.315073e+05  4.120424e+05\n",
              "\n",
              "[5 rows x 17 columns]"
            ]
          },
          "metadata": {
            "tags": []
          },
          "execution_count": 4
        }
      ]
    },
    {
      "cell_type": "code",
      "metadata": {
        "id": "zZzLe20ySBtl",
        "colab_type": "code",
        "colab": {
          "base_uri": "https://localhost:8080/",
          "height": 215
        },
        "outputId": "90c359ef-0b74-4acc-e90e-72934cda3872"
      },
      "source": [
        "data2.rename(columns={'Unnamed: 0':'index'}, inplace=True)\n",
        "data2.head()"
      ],
      "execution_count": 5,
      "outputs": [
        {
          "output_type": "execute_result",
          "data": {
            "text/html": [
              "<div>\n",
              "<style scoped>\n",
              "    .dataframe tbody tr th:only-of-type {\n",
              "        vertical-align: middle;\n",
              "    }\n",
              "\n",
              "    .dataframe tbody tr th {\n",
              "        vertical-align: top;\n",
              "    }\n",
              "\n",
              "    .dataframe thead th {\n",
              "        text-align: right;\n",
              "    }\n",
              "</style>\n",
              "<table border=\"1\" class=\"dataframe\">\n",
              "  <thead>\n",
              "    <tr style=\"text-align: right;\">\n",
              "      <th></th>\n",
              "      <th>index</th>\n",
              "      <th>txsize</th>\n",
              "      <th>txvirtualsize</th>\n",
              "      <th>txinputs_count</th>\n",
              "      <th>txoutputs_count</th>\n",
              "      <th>txinput_val</th>\n",
              "      <th>txoutput_val</th>\n",
              "      <th>txfee</th>\n",
              "      <th>Min_received</th>\n",
              "      <th>Max_received</th>\n",
              "      <th>Avg_received</th>\n",
              "      <th>Total_received</th>\n",
              "      <th>Stdev_received</th>\n",
              "      <th>Var_received</th>\n",
              "      <th>Min_sent</th>\n",
              "      <th>Max_sent</th>\n",
              "      <th>Avg_sent</th>\n",
              "      <th>Total_sent</th>\n",
              "      <th>Stdev_sent</th>\n",
              "      <th>Var_sent</th>\n",
              "    </tr>\n",
              "  </thead>\n",
              "  <tbody>\n",
              "    <tr>\n",
              "      <th>0</th>\n",
              "      <td>1</td>\n",
              "      <td>7369</td>\n",
              "      <td>7369</td>\n",
              "      <td>5</td>\n",
              "      <td>190</td>\n",
              "      <td>215000000.0</td>\n",
              "      <td>214600000.0</td>\n",
              "      <td>400000</td>\n",
              "      <td>0.0005</td>\n",
              "      <td>1.0000</td>\n",
              "      <td>0.011295</td>\n",
              "      <td>2.1460</td>\n",
              "      <td>0.081163</td>\n",
              "      <td>0.006587</td>\n",
              "      <td>0.0005</td>\n",
              "      <td>1.6700</td>\n",
              "      <td>0.4300</td>\n",
              "      <td>2.1500</td>\n",
              "      <td>0.703445</td>\n",
              "      <td>0.494835</td>\n",
              "    </tr>\n",
              "    <tr>\n",
              "      <th>1</th>\n",
              "      <td>2</td>\n",
              "      <td>293</td>\n",
              "      <td>293</td>\n",
              "      <td>1</td>\n",
              "      <td>3</td>\n",
              "      <td>4400000.0</td>\n",
              "      <td>4350000.0</td>\n",
              "      <td>50000</td>\n",
              "      <td>0.0010</td>\n",
              "      <td>0.0415</td>\n",
              "      <td>0.014500</td>\n",
              "      <td>0.0435</td>\n",
              "      <td>0.023383</td>\n",
              "      <td>0.000547</td>\n",
              "      <td>0.0440</td>\n",
              "      <td>0.0440</td>\n",
              "      <td>0.0440</td>\n",
              "      <td>0.0440</td>\n",
              "      <td>0.000000</td>\n",
              "      <td>0.000000</td>\n",
              "    </tr>\n",
              "    <tr>\n",
              "      <th>2</th>\n",
              "      <td>3</td>\n",
              "      <td>11139</td>\n",
              "      <td>11139</td>\n",
              "      <td>1</td>\n",
              "      <td>322</td>\n",
              "      <td>125000000.0</td>\n",
              "      <td>124400000.0</td>\n",
              "      <td>600000</td>\n",
              "      <td>0.0010</td>\n",
              "      <td>0.4460</td>\n",
              "      <td>0.003863</td>\n",
              "      <td>1.2440</td>\n",
              "      <td>0.024941</td>\n",
              "      <td>0.000622</td>\n",
              "      <td>1.2500</td>\n",
              "      <td>1.2500</td>\n",
              "      <td>1.2500</td>\n",
              "      <td>1.2500</td>\n",
              "      <td>0.000000</td>\n",
              "      <td>0.000000</td>\n",
              "    </tr>\n",
              "    <tr>\n",
              "      <th>3</th>\n",
              "      <td>4</td>\n",
              "      <td>495</td>\n",
              "      <td>495</td>\n",
              "      <td>1</td>\n",
              "      <td>9</td>\n",
              "      <td>27450000.0</td>\n",
              "      <td>27400000.0</td>\n",
              "      <td>50000</td>\n",
              "      <td>0.0010</td>\n",
              "      <td>0.2660</td>\n",
              "      <td>0.030444</td>\n",
              "      <td>0.2740</td>\n",
              "      <td>0.088333</td>\n",
              "      <td>0.007803</td>\n",
              "      <td>0.2745</td>\n",
              "      <td>0.2745</td>\n",
              "      <td>0.2745</td>\n",
              "      <td>0.2745</td>\n",
              "      <td>0.000000</td>\n",
              "      <td>0.000000</td>\n",
              "    </tr>\n",
              "    <tr>\n",
              "      <th>4</th>\n",
              "      <td>5</td>\n",
              "      <td>462</td>\n",
              "      <td>462</td>\n",
              "      <td>1</td>\n",
              "      <td>8</td>\n",
              "      <td>3000000.0</td>\n",
              "      <td>2950000.0</td>\n",
              "      <td>50000</td>\n",
              "      <td>0.0010</td>\n",
              "      <td>0.0225</td>\n",
              "      <td>0.003687</td>\n",
              "      <td>0.0295</td>\n",
              "      <td>0.007601</td>\n",
              "      <td>0.000058</td>\n",
              "      <td>0.0300</td>\n",
              "      <td>0.0300</td>\n",
              "      <td>0.0300</td>\n",
              "      <td>0.0300</td>\n",
              "      <td>0.000000</td>\n",
              "      <td>0.000000</td>\n",
              "    </tr>\n",
              "  </tbody>\n",
              "</table>\n",
              "</div>"
            ],
            "text/plain": [
              "   index  txsize  txvirtualsize  ...  Total_sent  Stdev_sent  Var_sent\n",
              "0      1    7369           7369  ...      2.1500    0.703445  0.494835\n",
              "1      2     293            293  ...      0.0440    0.000000  0.000000\n",
              "2      3   11139          11139  ...      1.2500    0.000000  0.000000\n",
              "3      4     495            495  ...      0.2745    0.000000  0.000000\n",
              "4      5     462            462  ...      0.0300    0.000000  0.000000\n",
              "\n",
              "[5 rows x 20 columns]"
            ]
          },
          "metadata": {
            "tags": []
          },
          "execution_count": 5
        }
      ]
    },
    {
      "cell_type": "code",
      "metadata": {
        "id": "rN75q8CwSTxi",
        "colab_type": "code",
        "colab": {
          "base_uri": "https://localhost:8080/",
          "height": 195
        },
        "outputId": "595c299c-0241-45f5-e92c-a290067ca18b"
      },
      "source": [
        "data3.rename(columns={'Unnamed: 0':'index'}, inplace=True)\n",
        "data3.head()"
      ],
      "execution_count": 6,
      "outputs": [
        {
          "output_type": "execute_result",
          "data": {
            "text/html": [
              "<div>\n",
              "<style scoped>\n",
              "    .dataframe tbody tr th:only-of-type {\n",
              "        vertical-align: middle;\n",
              "    }\n",
              "\n",
              "    .dataframe tbody tr th {\n",
              "        vertical-align: top;\n",
              "    }\n",
              "\n",
              "    .dataframe thead th {\n",
              "        text-align: right;\n",
              "    }\n",
              "</style>\n",
              "<table border=\"1\" class=\"dataframe\">\n",
              "  <thead>\n",
              "    <tr style=\"text-align: right;\">\n",
              "      <th></th>\n",
              "      <th>index</th>\n",
              "      <th>label</th>\n",
              "    </tr>\n",
              "  </thead>\n",
              "  <tbody>\n",
              "    <tr>\n",
              "      <th>0</th>\n",
              "      <td>1</td>\n",
              "      <td>unclassified</td>\n",
              "    </tr>\n",
              "    <tr>\n",
              "      <th>1</th>\n",
              "      <td>2</td>\n",
              "      <td>donations</td>\n",
              "    </tr>\n",
              "    <tr>\n",
              "      <th>2</th>\n",
              "      <td>3</td>\n",
              "      <td>unclassified</td>\n",
              "    </tr>\n",
              "    <tr>\n",
              "      <th>3</th>\n",
              "      <td>4</td>\n",
              "      <td>donations</td>\n",
              "    </tr>\n",
              "    <tr>\n",
              "      <th>4</th>\n",
              "      <td>5</td>\n",
              "      <td>donations</td>\n",
              "    </tr>\n",
              "  </tbody>\n",
              "</table>\n",
              "</div>"
            ],
            "text/plain": [
              "   index         label\n",
              "0      1  unclassified\n",
              "1      2     donations\n",
              "2      3  unclassified\n",
              "3      4     donations\n",
              "4      5     donations"
            ]
          },
          "metadata": {
            "tags": []
          },
          "execution_count": 6
        }
      ]
    },
    {
      "cell_type": "code",
      "metadata": {
        "id": "nkx_TSyHSVI6",
        "colab_type": "code",
        "colab": {}
      },
      "source": [
        "results = pd.merge(data3, data1, on='index', how='inner')\n",
        "\n",
        "# split data into X and y\n",
        "X = results.iloc[:,2:18]\n",
        "Y1 = results['label']"
      ],
      "execution_count": 7,
      "outputs": []
    },
    {
      "cell_type": "code",
      "metadata": {
        "id": "cG9wLrNloyae",
        "colab_type": "code",
        "colab": {}
      },
      "source": [
        "from sklearn import preprocessing\n",
        "Y = pd.get_dummies(Y1)"
      ],
      "execution_count": 8,
      "outputs": []
    },
    {
      "cell_type": "code",
      "metadata": {
        "id": "AOZNGwV9q2T4",
        "colab_type": "code",
        "colab": {}
      },
      "source": [
        "seed = 1\n",
        "test_size = 0.4\n",
        "x_train, x_test, y_train, y_test = train_test_split(X, Y, test_size=test_size, random_state=seed)\n",
        "x_val, x_test, y_val, y_test = train_test_split(x_test, y_test, test_size= 0.5, random_state=seed)"
      ],
      "execution_count": 9,
      "outputs": []
    },
    {
      "cell_type": "code",
      "metadata": {
        "id": "eukYlsaYveWp",
        "colab_type": "code",
        "colab": {
          "base_uri": "https://localhost:8080/",
          "height": 118
        },
        "outputId": "1a918a4d-60a9-46ea-ef3a-c31c89389d67"
      },
      "source": [
        "print(x_train.shape)\n",
        "print(x_val.shape)\n",
        "print(x_test.shape)\n",
        "print(y_train.shape)\n",
        "print(y_val.shape)\n",
        "print(y_test.shape)"
      ],
      "execution_count": 10,
      "outputs": [
        {
          "output_type": "stream",
          "text": [
            "(57898, 16)\n",
            "(19300, 16)\n",
            "(19300, 16)\n",
            "(57898, 6)\n",
            "(19300, 6)\n",
            "(19300, 6)\n"
          ],
          "name": "stdout"
        }
      ]
    },
    {
      "cell_type": "code",
      "metadata": {
        "id": "DxEkVRERwYDb",
        "colab_type": "code",
        "colab": {}
      },
      "source": [
        "from keras import models\n",
        "from keras import layers"
      ],
      "execution_count": 11,
      "outputs": []
    },
    {
      "cell_type": "code",
      "metadata": {
        "id": "2gWwiUFNwi--",
        "colab_type": "code",
        "colab": {}
      },
      "source": [
        "model = models.Sequential()"
      ],
      "execution_count": 12,
      "outputs": []
    },
    {
      "cell_type": "code",
      "metadata": {
        "id": "T933PLEXwkLD",
        "colab_type": "code",
        "colab": {}
      },
      "source": [
        "model.add(layers.Dense(512, activation = \"tanh\", input_shape = (16,)))\n",
        "model.add(layers.Dense(256, activation = \"relu\"))\n",
        "model.add(layers.Dense(6, activation = \"softmax\"))"
      ],
      "execution_count": 14,
      "outputs": []
    },
    {
      "cell_type": "code",
      "metadata": {
        "id": "wMePs7J9zAmg",
        "colab_type": "code",
        "colab": {
          "base_uri": "https://localhost:8080/",
          "height": 252
        },
        "outputId": "03ea9a33-9d9e-4652-aeea-df04f540dde2"
      },
      "source": [
        "model.summary()"
      ],
      "execution_count": 15,
      "outputs": [
        {
          "output_type": "stream",
          "text": [
            "Model: \"sequential\"\n",
            "_________________________________________________________________\n",
            "Layer (type)                 Output Shape              Param #   \n",
            "=================================================================\n",
            "dense_1 (Dense)              (None, 512)               8704      \n",
            "_________________________________________________________________\n",
            "dense_2 (Dense)              (None, 256)               131328    \n",
            "_________________________________________________________________\n",
            "dense_3 (Dense)              (None, 6)                 1542      \n",
            "=================================================================\n",
            "Total params: 141,574\n",
            "Trainable params: 141,574\n",
            "Non-trainable params: 0\n",
            "_________________________________________________________________\n"
          ],
          "name": "stdout"
        }
      ]
    },
    {
      "cell_type": "code",
      "metadata": {
        "id": "5LyUx6pEzK5L",
        "colab_type": "code",
        "colab": {}
      },
      "source": [
        "model.compile(optimizer = \"sgd\", loss = 'categorical_crossentropy', metrics = ['accuracy'])"
      ],
      "execution_count": 16,
      "outputs": []
    },
    {
      "cell_type": "code",
      "metadata": {
        "id": "ixAK3cGIzPW0",
        "colab_type": "code",
        "colab": {
          "base_uri": "https://localhost:8080/",
          "height": 1000
        },
        "outputId": "58d13143-b280-4fca-ac24-3faa4cd3483c"
      },
      "source": [
        "fit=model.fit(x_train, y_train,batch_size=128,epochs =50,validation_data=(x_val, y_val))"
      ],
      "execution_count": 17,
      "outputs": [
        {
          "output_type": "stream",
          "text": [
            "Epoch 1/50\n",
            "453/453 [==============================] - 3s 6ms/step - loss: 0.5692 - accuracy: 0.8606 - val_loss: 0.5559 - val_accuracy: 0.8645\n",
            "Epoch 2/50\n",
            "453/453 [==============================] - 2s 5ms/step - loss: 0.5552 - accuracy: 0.8652 - val_loss: 0.5725 - val_accuracy: 0.8650\n",
            "Epoch 3/50\n",
            "453/453 [==============================] - 2s 5ms/step - loss: 0.5538 - accuracy: 0.8653 - val_loss: 0.5781 - val_accuracy: 0.8636\n",
            "Epoch 4/50\n",
            "453/453 [==============================] - 2s 5ms/step - loss: 0.5524 - accuracy: 0.8657 - val_loss: 0.5619 - val_accuracy: 0.8654\n",
            "Epoch 5/50\n",
            "453/453 [==============================] - 2s 5ms/step - loss: 0.5522 - accuracy: 0.8658 - val_loss: 0.5719 - val_accuracy: 0.8654\n",
            "Epoch 6/50\n",
            "453/453 [==============================] - 2s 5ms/step - loss: 0.5516 - accuracy: 0.8660 - val_loss: 0.5789 - val_accuracy: 0.8646\n",
            "Epoch 7/50\n",
            "453/453 [==============================] - 2s 5ms/step - loss: 0.5508 - accuracy: 0.8659 - val_loss: 0.5524 - val_accuracy: 0.8648\n",
            "Epoch 8/50\n",
            "453/453 [==============================] - 2s 5ms/step - loss: 0.5503 - accuracy: 0.8660 - val_loss: 0.5558 - val_accuracy: 0.8650\n",
            "Epoch 9/50\n",
            "453/453 [==============================] - 2s 5ms/step - loss: 0.5500 - accuracy: 0.8659 - val_loss: 0.5508 - val_accuracy: 0.8649\n",
            "Epoch 10/50\n",
            "453/453 [==============================] - 2s 5ms/step - loss: 0.5499 - accuracy: 0.8660 - val_loss: 0.5515 - val_accuracy: 0.8650\n",
            "Epoch 11/50\n",
            "453/453 [==============================] - 2s 5ms/step - loss: 0.5495 - accuracy: 0.8660 - val_loss: 0.5681 - val_accuracy: 0.8648\n",
            "Epoch 12/50\n",
            "453/453 [==============================] - 2s 5ms/step - loss: 0.5493 - accuracy: 0.8660 - val_loss: 0.5514 - val_accuracy: 0.8653\n",
            "Epoch 13/50\n",
            "453/453 [==============================] - 2s 5ms/step - loss: 0.5493 - accuracy: 0.8661 - val_loss: 0.5953 - val_accuracy: 0.8636\n",
            "Epoch 14/50\n",
            "453/453 [==============================] - 2s 5ms/step - loss: 0.5491 - accuracy: 0.8662 - val_loss: 0.5848 - val_accuracy: 0.8641\n",
            "Epoch 15/50\n",
            "453/453 [==============================] - 2s 5ms/step - loss: 0.5488 - accuracy: 0.8660 - val_loss: 0.5536 - val_accuracy: 0.8656\n",
            "Epoch 16/50\n",
            "453/453 [==============================] - 2s 5ms/step - loss: 0.5485 - accuracy: 0.8662 - val_loss: 0.5617 - val_accuracy: 0.8647\n",
            "Epoch 17/50\n",
            "453/453 [==============================] - 2s 5ms/step - loss: 0.5485 - accuracy: 0.8661 - val_loss: 0.5500 - val_accuracy: 0.8650\n",
            "Epoch 18/50\n",
            "453/453 [==============================] - 2s 5ms/step - loss: 0.5478 - accuracy: 0.8661 - val_loss: 0.5646 - val_accuracy: 0.8649\n",
            "Epoch 19/50\n",
            "453/453 [==============================] - 2s 5ms/step - loss: 0.5476 - accuracy: 0.8661 - val_loss: 0.5631 - val_accuracy: 0.8640\n",
            "Epoch 20/50\n",
            "453/453 [==============================] - 2s 5ms/step - loss: 0.5478 - accuracy: 0.8663 - val_loss: 0.5493 - val_accuracy: 0.8652\n",
            "Epoch 21/50\n",
            "453/453 [==============================] - 2s 5ms/step - loss: 0.5481 - accuracy: 0.8662 - val_loss: 0.5535 - val_accuracy: 0.8658\n",
            "Epoch 22/50\n",
            "453/453 [==============================] - 2s 5ms/step - loss: 0.5476 - accuracy: 0.8662 - val_loss: 0.5549 - val_accuracy: 0.8656\n",
            "Epoch 23/50\n",
            "453/453 [==============================] - 2s 5ms/step - loss: 0.5472 - accuracy: 0.8661 - val_loss: 0.5523 - val_accuracy: 0.8656\n",
            "Epoch 24/50\n",
            "453/453 [==============================] - 2s 5ms/step - loss: 0.5472 - accuracy: 0.8661 - val_loss: 0.5531 - val_accuracy: 0.8659\n",
            "Epoch 25/50\n",
            "453/453 [==============================] - 2s 5ms/step - loss: 0.5470 - accuracy: 0.8663 - val_loss: 0.5502 - val_accuracy: 0.8655\n",
            "Epoch 26/50\n",
            "453/453 [==============================] - 2s 5ms/step - loss: 0.5469 - accuracy: 0.8664 - val_loss: 0.5505 - val_accuracy: 0.8654\n",
            "Epoch 27/50\n",
            "453/453 [==============================] - 2s 5ms/step - loss: 0.5469 - accuracy: 0.8665 - val_loss: 0.5519 - val_accuracy: 0.8653\n",
            "Epoch 28/50\n",
            "453/453 [==============================] - 2s 5ms/step - loss: 0.5469 - accuracy: 0.8663 - val_loss: 0.5494 - val_accuracy: 0.8655\n",
            "Epoch 29/50\n",
            "453/453 [==============================] - 2s 5ms/step - loss: 0.5466 - accuracy: 0.8665 - val_loss: 0.5513 - val_accuracy: 0.8658\n",
            "Epoch 30/50\n",
            "453/453 [==============================] - 2s 5ms/step - loss: 0.5469 - accuracy: 0.8664 - val_loss: 0.5485 - val_accuracy: 0.8653\n",
            "Epoch 31/50\n",
            "453/453 [==============================] - 2s 5ms/step - loss: 0.5467 - accuracy: 0.8664 - val_loss: 0.5477 - val_accuracy: 0.8655\n",
            "Epoch 32/50\n",
            "453/453 [==============================] - 2s 5ms/step - loss: 0.5463 - accuracy: 0.8665 - val_loss: 0.5502 - val_accuracy: 0.8660\n",
            "Epoch 33/50\n",
            "453/453 [==============================] - 2s 5ms/step - loss: 0.5463 - accuracy: 0.8664 - val_loss: 0.5520 - val_accuracy: 0.8653\n",
            "Epoch 34/50\n",
            "453/453 [==============================] - 2s 5ms/step - loss: 0.5460 - accuracy: 0.8666 - val_loss: 0.5523 - val_accuracy: 0.8660\n",
            "Epoch 35/50\n",
            "453/453 [==============================] - 2s 5ms/step - loss: 0.5461 - accuracy: 0.8665 - val_loss: 0.5505 - val_accuracy: 0.8655\n",
            "Epoch 36/50\n",
            "453/453 [==============================] - 2s 5ms/step - loss: 0.5459 - accuracy: 0.8667 - val_loss: 0.5630 - val_accuracy: 0.8661\n",
            "Epoch 37/50\n",
            "453/453 [==============================] - 2s 5ms/step - loss: 0.5456 - accuracy: 0.8668 - val_loss: 0.5713 - val_accuracy: 0.8652\n",
            "Epoch 38/50\n",
            "453/453 [==============================] - 2s 5ms/step - loss: 0.5460 - accuracy: 0.8667 - val_loss: 0.5496 - val_accuracy: 0.8655\n",
            "Epoch 39/50\n",
            "453/453 [==============================] - 2s 5ms/step - loss: 0.5456 - accuracy: 0.8668 - val_loss: 0.5513 - val_accuracy: 0.8659\n",
            "Epoch 40/50\n",
            "453/453 [==============================] - 2s 5ms/step - loss: 0.5454 - accuracy: 0.8667 - val_loss: 0.5537 - val_accuracy: 0.8661\n",
            "Epoch 41/50\n",
            "453/453 [==============================] - 2s 5ms/step - loss: 0.5458 - accuracy: 0.8667 - val_loss: 0.5485 - val_accuracy: 0.8661\n",
            "Epoch 42/50\n",
            "453/453 [==============================] - 3s 6ms/step - loss: 0.5454 - accuracy: 0.8669 - val_loss: 0.5473 - val_accuracy: 0.8661\n",
            "Epoch 43/50\n",
            "453/453 [==============================] - 3s 6ms/step - loss: 0.5455 - accuracy: 0.8669 - val_loss: 0.5477 - val_accuracy: 0.8663\n",
            "Epoch 44/50\n",
            "453/453 [==============================] - 3s 6ms/step - loss: 0.5453 - accuracy: 0.8670 - val_loss: 0.5509 - val_accuracy: 0.8658\n",
            "Epoch 45/50\n",
            "453/453 [==============================] - 2s 5ms/step - loss: 0.5456 - accuracy: 0.8669 - val_loss: 0.5500 - val_accuracy: 0.8663\n",
            "Epoch 46/50\n",
            "453/453 [==============================] - 2s 5ms/step - loss: 0.5452 - accuracy: 0.8670 - val_loss: 0.5546 - val_accuracy: 0.8652\n",
            "Epoch 47/50\n",
            "453/453 [==============================] - 2s 5ms/step - loss: 0.5453 - accuracy: 0.8671 - val_loss: 0.5538 - val_accuracy: 0.8656\n",
            "Epoch 48/50\n",
            "453/453 [==============================] - 2s 5ms/step - loss: 0.5450 - accuracy: 0.8671 - val_loss: 0.5580 - val_accuracy: 0.8662\n",
            "Epoch 49/50\n",
            "453/453 [==============================] - 2s 5ms/step - loss: 0.5450 - accuracy: 0.8672 - val_loss: 0.5467 - val_accuracy: 0.8666\n",
            "Epoch 50/50\n",
            "453/453 [==============================] - 2s 5ms/step - loss: 0.5449 - accuracy: 0.8672 - val_loss: 0.5630 - val_accuracy: 0.8652\n"
          ],
          "name": "stdout"
        }
      ]
    },
    {
      "cell_type": "code",
      "metadata": {
        "id": "NluIJidc0Jeo",
        "colab_type": "code",
        "colab": {
          "base_uri": "https://localhost:8080/",
          "height": 84
        },
        "outputId": "de4c32d9-cfd2-407b-8e3c-9468dce83e1f"
      },
      "source": [
        "model.evaluate(x_train,y_train)[1]\n",
        "model.evaluate(x_val,y_val)[1]\n",
        "model.evaluate(x_test,y_test)[1]"
      ],
      "execution_count": 18,
      "outputs": [
        {
          "output_type": "stream",
          "text": [
            "1810/1810 [==============================] - 2s 1ms/step - loss: 0.5584 - accuracy: 0.8666\n",
            "604/604 [==============================] - 1s 1ms/step - loss: 0.5630 - accuracy: 0.8652\n",
            "604/604 [==============================] - 1s 1ms/step - loss: 0.5633 - accuracy: 0.8640\n"
          ],
          "name": "stdout"
        },
        {
          "output_type": "execute_result",
          "data": {
            "text/plain": [
              "0.8639896512031555"
            ]
          },
          "metadata": {
            "tags": []
          },
          "execution_count": 18
        }
      ]
    },
    {
      "cell_type": "code",
      "metadata": {
        "id": "ltax9q_g4uGQ",
        "colab_type": "code",
        "colab": {
          "base_uri": "https://localhost:8080/",
          "height": 472
        },
        "outputId": "b4a67128-34b2-426c-be33-3ec9236899fc"
      },
      "source": [
        "loss_train = fit.history['loss']\n",
        "loss_val = fit.history['val_loss']\n",
        "epochs = range(1,51)\n",
        "plt.plot(epochs, loss_train, 'g', label='Training loss')\n",
        "plt.plot(epochs, loss_val, 'b', label='validation loss')\n",
        "plt.title('Training and Validation loss')\n",
        "plt.xlabel('Epochs')\n",
        "plt.ylabel('Loss')\n",
        "plt.legend()\n",
        "plt.show()"
      ],
      "execution_count": 19,
      "outputs": [
        {
          "output_type": "display_data",
          "data": {
            "image/png": "[encoded data removed]",
            "text/plain": [
              "<Figure size 1440x504 with 1 Axes>"
            ]
          },
          "metadata": {
            "tags": []
          }
        }
      ]
    },
    {
      "cell_type": "code",
      "metadata": {
        "id": "ZCA7uUKF5Du-",
        "colab_type": "code",
        "colab": {
          "base_uri": "https://localhost:8080/",
          "height": 472
        },
        "outputId": "c0c535aa-8f6d-4f95-dfaf-fe4cf025b696"
      },
      "source": [
        "acc_train = fit.history['accuracy']\n",
        "acc_val = fit.history['val_accuracy']\n",
        "\n",
        "epochs = range(1,51)\n",
        "\n",
        "plt.plot(epochs, acc_train, 'k', label='Training accuracy')\n",
        "plt.plot(epochs, acc_val, 'r', label='validation accuracy')\n",
        "\n",
        "plt.title('Training and Validation accuracy')\n",
        "plt.xlabel('Epochs')\n",
        "plt.ylabel('Accuracy')\n",
        "plt.legend()\n",
        "plt.show()"
      ],
      "execution_count": 20,
      "outputs": [
        {
          "output_type": "display_data",
          "data": {
            "image/png": "[encoded data removed]",
            "text/plain": [
              "<Figure size 1440x504 with 1 Axes>"
            ]
          },
          "metadata": {
            "tags": []
          }
        }
      ]
    },
    {
      "cell_type": "code",
      "metadata": {
        "id": "9Sr7ircH7QKT",
        "colab_type": "code",
        "colab": {}
      },
      "source": [
        ""
      ],
      "execution_count": null,
      "outputs": []
    }
  ]
}