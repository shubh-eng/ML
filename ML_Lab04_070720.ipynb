{
  "nbformat": 4,
  "nbformat_minor": 0,
  "metadata": {
    "colab": {
      "name": "ML_Lab04_070720.ipynb",
      "provenance": [],
      "collapsed_sections": [],
      "include_colab_link": true
    },
    "kernelspec": {
      "name": "python3",
      "display_name": "Python 3"
    }
  },
  "cells": [
    {
      "cell_type": "markdown",
      "metadata": {
        "id": "view-in-github",
        "colab_type": "text"
      },
      "source": [
        "<a href=\"https://colab.research.google.com/github/shubh-eng/ML/blob/master/ML_Lab04_070720.ipynb\" target=\"_parent\"><img src=\"https://colab.research.google.com/assets/colab-badge.svg\" alt=\"Open In Colab\"/></a>"
      ]
    },
    {
      "cell_type": "code",
      "metadata": {
        "id": "Y43fMsXTYbzL",
        "colab_type": "code",
        "colab": {
          "base_uri": "https://localhost:8080/",
          "height": 70
        },
        "outputId": "324830ff-8eca-4c94-a382-2f35a41d5fbd"
      },
      "source": [
        "import pandas as pd\n",
        "import numpy as np\n",
        "import matplotlib.pyplot as plt\n",
        "import matplotlib.pyplot as plt\n",
        "import seaborn as sns\n",
        "sns.set_style('darkgrid')"
      ],
      "execution_count": 1,
      "outputs": [
        {
          "output_type": "stream",
          "text": [
            "/usr/local/lib/python3.6/dist-packages/statsmodels/tools/_testing.py:19: FutureWarning: pandas.util.testing is deprecated. Use the functions in the public API at pandas.testing instead.\n",
            "  import pandas.util.testing as tm\n"
          ],
          "name": "stderr"
        }
      ]
    },
    {
      "cell_type": "code",
      "metadata": {
        "id": "RJW2Cd8BZEPw",
        "colab_type": "code",
        "colab": {}
      },
      "source": [
        "data = pd.read_excel('https://s3-api.us-geo.objectstorage.softlayer.net/cf-courses-data/CognitiveClass/DV0101EN/labs/Data_Files/Canada.xlsx',\n",
        " sheet_name='Canada by Citizenship',\n",
        " skiprows=range(20),\n",
        " skipfooter=2)  "
      ],
      "execution_count": 2,
      "outputs": []
    },
    {
      "cell_type": "markdown",
      "metadata": {
        "id": "H213QnALZbeq",
        "colab_type": "text"
      },
      "source": [
        "##Exercise: 1"
      ]
    },
    {
      "cell_type": "code",
      "metadata": {
        "id": "V1w9O_nCZYni",
        "colab_type": "code",
        "colab": {
          "base_uri": "https://localhost:8080/",
          "height": 606
        },
        "outputId": "ea19fbee-3658-481d-ceeb-dd778c177cfe"
      },
      "source": [
        "data"
      ],
      "execution_count": 3,
      "outputs": [
        {
          "output_type": "execute_result",
          "data": {
            "text/html": [
              "<div>\n",
              "<style scoped>\n",
              "    .dataframe tbody tr th:only-of-type {\n",
              "        vertical-align: middle;\n",
              "    }\n",
              "\n",
              "    .dataframe tbody tr th {\n",
              "        vertical-align: top;\n",
              "    }\n",
              "\n",
              "    .dataframe thead th {\n",
              "        text-align: right;\n",
              "    }\n",
              "</style>\n",
              "<table border=\"1\" class=\"dataframe\">\n",
              "  <thead>\n",
              "    <tr style=\"text-align: right;\">\n",
              "      <th></th>\n",
              "      <th>Type</th>\n",
              "      <th>Coverage</th>\n",
              "      <th>OdName</th>\n",
              "      <th>AREA</th>\n",
              "      <th>AreaName</th>\n",
              "      <th>REG</th>\n",
              "      <th>RegName</th>\n",
              "      <th>DEV</th>\n",
              "      <th>DevName</th>\n",
              "      <th>1980</th>\n",
              "      <th>1981</th>\n",
              "      <th>1982</th>\n",
              "      <th>1983</th>\n",
              "      <th>1984</th>\n",
              "      <th>1985</th>\n",
              "      <th>1986</th>\n",
              "      <th>1987</th>\n",
              "      <th>1988</th>\n",
              "      <th>1989</th>\n",
              "      <th>1990</th>\n",
              "      <th>1991</th>\n",
              "      <th>1992</th>\n",
              "      <th>1993</th>\n",
              "      <th>1994</th>\n",
              "      <th>1995</th>\n",
              "      <th>1996</th>\n",
              "      <th>1997</th>\n",
              "      <th>1998</th>\n",
              "      <th>1999</th>\n",
              "      <th>2000</th>\n",
              "      <th>2001</th>\n",
              "      <th>2002</th>\n",
              "      <th>2003</th>\n",
              "      <th>2004</th>\n",
              "      <th>2005</th>\n",
              "      <th>2006</th>\n",
              "      <th>2007</th>\n",
              "      <th>2008</th>\n",
              "      <th>2009</th>\n",
              "      <th>2010</th>\n",
              "      <th>2011</th>\n",
              "      <th>2012</th>\n",
              "      <th>2013</th>\n",
              "    </tr>\n",
              "  </thead>\n",
              "  <tbody>\n",
              "    <tr>\n",
              "      <th>0</th>\n",
              "      <td>Immigrants</td>\n",
              "      <td>Foreigners</td>\n",
              "      <td>Afghanistan</td>\n",
              "      <td>935</td>\n",
              "      <td>Asia</td>\n",
              "      <td>5501</td>\n",
              "      <td>Southern Asia</td>\n",
              "      <td>902</td>\n",
              "      <td>Developing regions</td>\n",
              "      <td>16</td>\n",
              "      <td>39</td>\n",
              "      <td>39</td>\n",
              "      <td>47</td>\n",
              "      <td>71</td>\n",
              "      <td>340</td>\n",
              "      <td>496</td>\n",
              "      <td>741</td>\n",
              "      <td>828</td>\n",
              "      <td>1076</td>\n",
              "      <td>1028</td>\n",
              "      <td>1378</td>\n",
              "      <td>1170</td>\n",
              "      <td>713</td>\n",
              "      <td>858</td>\n",
              "      <td>1537</td>\n",
              "      <td>2212</td>\n",
              "      <td>2555</td>\n",
              "      <td>1999</td>\n",
              "      <td>2395</td>\n",
              "      <td>3326</td>\n",
              "      <td>4067</td>\n",
              "      <td>3697</td>\n",
              "      <td>3479</td>\n",
              "      <td>2978</td>\n",
              "      <td>3436</td>\n",
              "      <td>3009</td>\n",
              "      <td>2652</td>\n",
              "      <td>2111</td>\n",
              "      <td>1746</td>\n",
              "      <td>1758</td>\n",
              "      <td>2203</td>\n",
              "      <td>2635</td>\n",
              "      <td>2004</td>\n",
              "    </tr>\n",
              "    <tr>\n",
              "      <th>1</th>\n",
              "      <td>Immigrants</td>\n",
              "      <td>Foreigners</td>\n",
              "      <td>Albania</td>\n",
              "      <td>908</td>\n",
              "      <td>Europe</td>\n",
              "      <td>925</td>\n",
              "      <td>Southern Europe</td>\n",
              "      <td>901</td>\n",
              "      <td>Developed regions</td>\n",
              "      <td>1</td>\n",
              "      <td>0</td>\n",
              "      <td>0</td>\n",
              "      <td>0</td>\n",
              "      <td>0</td>\n",
              "      <td>0</td>\n",
              "      <td>1</td>\n",
              "      <td>2</td>\n",
              "      <td>2</td>\n",
              "      <td>3</td>\n",
              "      <td>3</td>\n",
              "      <td>21</td>\n",
              "      <td>56</td>\n",
              "      <td>96</td>\n",
              "      <td>71</td>\n",
              "      <td>63</td>\n",
              "      <td>113</td>\n",
              "      <td>307</td>\n",
              "      <td>574</td>\n",
              "      <td>1264</td>\n",
              "      <td>1816</td>\n",
              "      <td>1602</td>\n",
              "      <td>1021</td>\n",
              "      <td>853</td>\n",
              "      <td>1450</td>\n",
              "      <td>1223</td>\n",
              "      <td>856</td>\n",
              "      <td>702</td>\n",
              "      <td>560</td>\n",
              "      <td>716</td>\n",
              "      <td>561</td>\n",
              "      <td>539</td>\n",
              "      <td>620</td>\n",
              "      <td>603</td>\n",
              "    </tr>\n",
              "    <tr>\n",
              "      <th>2</th>\n",
              "      <td>Immigrants</td>\n",
              "      <td>Foreigners</td>\n",
              "      <td>Algeria</td>\n",
              "      <td>903</td>\n",
              "      <td>Africa</td>\n",
              "      <td>912</td>\n",
              "      <td>Northern Africa</td>\n",
              "      <td>902</td>\n",
              "      <td>Developing regions</td>\n",
              "      <td>80</td>\n",
              "      <td>67</td>\n",
              "      <td>71</td>\n",
              "      <td>69</td>\n",
              "      <td>63</td>\n",
              "      <td>44</td>\n",
              "      <td>69</td>\n",
              "      <td>132</td>\n",
              "      <td>242</td>\n",
              "      <td>434</td>\n",
              "      <td>491</td>\n",
              "      <td>872</td>\n",
              "      <td>795</td>\n",
              "      <td>717</td>\n",
              "      <td>595</td>\n",
              "      <td>1106</td>\n",
              "      <td>2054</td>\n",
              "      <td>1842</td>\n",
              "      <td>2292</td>\n",
              "      <td>2389</td>\n",
              "      <td>2867</td>\n",
              "      <td>3418</td>\n",
              "      <td>3406</td>\n",
              "      <td>3072</td>\n",
              "      <td>3616</td>\n",
              "      <td>3626</td>\n",
              "      <td>4807</td>\n",
              "      <td>3623</td>\n",
              "      <td>4005</td>\n",
              "      <td>5393</td>\n",
              "      <td>4752</td>\n",
              "      <td>4325</td>\n",
              "      <td>3774</td>\n",
              "      <td>4331</td>\n",
              "    </tr>\n",
              "    <tr>\n",
              "      <th>3</th>\n",
              "      <td>Immigrants</td>\n",
              "      <td>Foreigners</td>\n",
              "      <td>American Samoa</td>\n",
              "      <td>909</td>\n",
              "      <td>Oceania</td>\n",
              "      <td>957</td>\n",
              "      <td>Polynesia</td>\n",
              "      <td>902</td>\n",
              "      <td>Developing regions</td>\n",
              "      <td>0</td>\n",
              "      <td>1</td>\n",
              "      <td>0</td>\n",
              "      <td>0</td>\n",
              "      <td>0</td>\n",
              "      <td>0</td>\n",
              "      <td>0</td>\n",
              "      <td>1</td>\n",
              "      <td>0</td>\n",
              "      <td>1</td>\n",
              "      <td>2</td>\n",
              "      <td>0</td>\n",
              "      <td>0</td>\n",
              "      <td>0</td>\n",
              "      <td>0</td>\n",
              "      <td>0</td>\n",
              "      <td>0</td>\n",
              "      <td>0</td>\n",
              "      <td>0</td>\n",
              "      <td>0</td>\n",
              "      <td>0</td>\n",
              "      <td>0</td>\n",
              "      <td>0</td>\n",
              "      <td>0</td>\n",
              "      <td>0</td>\n",
              "      <td>0</td>\n",
              "      <td>1</td>\n",
              "      <td>0</td>\n",
              "      <td>0</td>\n",
              "      <td>0</td>\n",
              "      <td>0</td>\n",
              "      <td>0</td>\n",
              "      <td>0</td>\n",
              "      <td>0</td>\n",
              "    </tr>\n",
              "    <tr>\n",
              "      <th>4</th>\n",
              "      <td>Immigrants</td>\n",
              "      <td>Foreigners</td>\n",
              "      <td>Andorra</td>\n",
              "      <td>908</td>\n",
              "      <td>Europe</td>\n",
              "      <td>925</td>\n",
              "      <td>Southern Europe</td>\n",
              "      <td>901</td>\n",
              "      <td>Developed regions</td>\n",
              "      <td>0</td>\n",
              "      <td>0</td>\n",
              "      <td>0</td>\n",
              "      <td>0</td>\n",
              "      <td>0</td>\n",
              "      <td>0</td>\n",
              "      <td>2</td>\n",
              "      <td>0</td>\n",
              "      <td>0</td>\n",
              "      <td>0</td>\n",
              "      <td>3</td>\n",
              "      <td>0</td>\n",
              "      <td>1</td>\n",
              "      <td>0</td>\n",
              "      <td>0</td>\n",
              "      <td>0</td>\n",
              "      <td>0</td>\n",
              "      <td>0</td>\n",
              "      <td>2</td>\n",
              "      <td>0</td>\n",
              "      <td>0</td>\n",
              "      <td>1</td>\n",
              "      <td>0</td>\n",
              "      <td>2</td>\n",
              "      <td>0</td>\n",
              "      <td>0</td>\n",
              "      <td>1</td>\n",
              "      <td>1</td>\n",
              "      <td>0</td>\n",
              "      <td>0</td>\n",
              "      <td>0</td>\n",
              "      <td>0</td>\n",
              "      <td>1</td>\n",
              "      <td>1</td>\n",
              "    </tr>\n",
              "    <tr>\n",
              "      <th>...</th>\n",
              "      <td>...</td>\n",
              "      <td>...</td>\n",
              "      <td>...</td>\n",
              "      <td>...</td>\n",
              "      <td>...</td>\n",
              "      <td>...</td>\n",
              "      <td>...</td>\n",
              "      <td>...</td>\n",
              "      <td>...</td>\n",
              "      <td>...</td>\n",
              "      <td>...</td>\n",
              "      <td>...</td>\n",
              "      <td>...</td>\n",
              "      <td>...</td>\n",
              "      <td>...</td>\n",
              "      <td>...</td>\n",
              "      <td>...</td>\n",
              "      <td>...</td>\n",
              "      <td>...</td>\n",
              "      <td>...</td>\n",
              "      <td>...</td>\n",
              "      <td>...</td>\n",
              "      <td>...</td>\n",
              "      <td>...</td>\n",
              "      <td>...</td>\n",
              "      <td>...</td>\n",
              "      <td>...</td>\n",
              "      <td>...</td>\n",
              "      <td>...</td>\n",
              "      <td>...</td>\n",
              "      <td>...</td>\n",
              "      <td>...</td>\n",
              "      <td>...</td>\n",
              "      <td>...</td>\n",
              "      <td>...</td>\n",
              "      <td>...</td>\n",
              "      <td>...</td>\n",
              "      <td>...</td>\n",
              "      <td>...</td>\n",
              "      <td>...</td>\n",
              "      <td>...</td>\n",
              "      <td>...</td>\n",
              "      <td>...</td>\n",
              "    </tr>\n",
              "    <tr>\n",
              "      <th>190</th>\n",
              "      <td>Immigrants</td>\n",
              "      <td>Foreigners</td>\n",
              "      <td>Viet Nam</td>\n",
              "      <td>935</td>\n",
              "      <td>Asia</td>\n",
              "      <td>920</td>\n",
              "      <td>South-Eastern Asia</td>\n",
              "      <td>902</td>\n",
              "      <td>Developing regions</td>\n",
              "      <td>1191</td>\n",
              "      <td>1829</td>\n",
              "      <td>2162</td>\n",
              "      <td>3404</td>\n",
              "      <td>7583</td>\n",
              "      <td>5907</td>\n",
              "      <td>2741</td>\n",
              "      <td>1406</td>\n",
              "      <td>1411</td>\n",
              "      <td>3004</td>\n",
              "      <td>3801</td>\n",
              "      <td>5870</td>\n",
              "      <td>5416</td>\n",
              "      <td>6547</td>\n",
              "      <td>5105</td>\n",
              "      <td>3723</td>\n",
              "      <td>2462</td>\n",
              "      <td>1752</td>\n",
              "      <td>1631</td>\n",
              "      <td>1419</td>\n",
              "      <td>1803</td>\n",
              "      <td>2117</td>\n",
              "      <td>2291</td>\n",
              "      <td>1713</td>\n",
              "      <td>1816</td>\n",
              "      <td>1852</td>\n",
              "      <td>3153</td>\n",
              "      <td>2574</td>\n",
              "      <td>1784</td>\n",
              "      <td>2171</td>\n",
              "      <td>1942</td>\n",
              "      <td>1723</td>\n",
              "      <td>1731</td>\n",
              "      <td>2112</td>\n",
              "    </tr>\n",
              "    <tr>\n",
              "      <th>191</th>\n",
              "      <td>Immigrants</td>\n",
              "      <td>Foreigners</td>\n",
              "      <td>Western Sahara</td>\n",
              "      <td>903</td>\n",
              "      <td>Africa</td>\n",
              "      <td>912</td>\n",
              "      <td>Northern Africa</td>\n",
              "      <td>902</td>\n",
              "      <td>Developing regions</td>\n",
              "      <td>0</td>\n",
              "      <td>0</td>\n",
              "      <td>0</td>\n",
              "      <td>0</td>\n",
              "      <td>0</td>\n",
              "      <td>0</td>\n",
              "      <td>0</td>\n",
              "      <td>0</td>\n",
              "      <td>0</td>\n",
              "      <td>0</td>\n",
              "      <td>0</td>\n",
              "      <td>1</td>\n",
              "      <td>0</td>\n",
              "      <td>0</td>\n",
              "      <td>0</td>\n",
              "      <td>0</td>\n",
              "      <td>0</td>\n",
              "      <td>0</td>\n",
              "      <td>0</td>\n",
              "      <td>0</td>\n",
              "      <td>0</td>\n",
              "      <td>0</td>\n",
              "      <td>0</td>\n",
              "      <td>0</td>\n",
              "      <td>0</td>\n",
              "      <td>0</td>\n",
              "      <td>1</td>\n",
              "      <td>0</td>\n",
              "      <td>0</td>\n",
              "      <td>0</td>\n",
              "      <td>0</td>\n",
              "      <td>0</td>\n",
              "      <td>0</td>\n",
              "      <td>0</td>\n",
              "    </tr>\n",
              "    <tr>\n",
              "      <th>192</th>\n",
              "      <td>Immigrants</td>\n",
              "      <td>Foreigners</td>\n",
              "      <td>Yemen</td>\n",
              "      <td>935</td>\n",
              "      <td>Asia</td>\n",
              "      <td>922</td>\n",
              "      <td>Western Asia</td>\n",
              "      <td>902</td>\n",
              "      <td>Developing regions</td>\n",
              "      <td>1</td>\n",
              "      <td>2</td>\n",
              "      <td>1</td>\n",
              "      <td>6</td>\n",
              "      <td>0</td>\n",
              "      <td>18</td>\n",
              "      <td>7</td>\n",
              "      <td>12</td>\n",
              "      <td>7</td>\n",
              "      <td>18</td>\n",
              "      <td>4</td>\n",
              "      <td>18</td>\n",
              "      <td>41</td>\n",
              "      <td>41</td>\n",
              "      <td>39</td>\n",
              "      <td>73</td>\n",
              "      <td>144</td>\n",
              "      <td>121</td>\n",
              "      <td>141</td>\n",
              "      <td>134</td>\n",
              "      <td>122</td>\n",
              "      <td>181</td>\n",
              "      <td>171</td>\n",
              "      <td>113</td>\n",
              "      <td>124</td>\n",
              "      <td>161</td>\n",
              "      <td>140</td>\n",
              "      <td>122</td>\n",
              "      <td>133</td>\n",
              "      <td>128</td>\n",
              "      <td>211</td>\n",
              "      <td>160</td>\n",
              "      <td>174</td>\n",
              "      <td>217</td>\n",
              "    </tr>\n",
              "    <tr>\n",
              "      <th>193</th>\n",
              "      <td>Immigrants</td>\n",
              "      <td>Foreigners</td>\n",
              "      <td>Zambia</td>\n",
              "      <td>903</td>\n",
              "      <td>Africa</td>\n",
              "      <td>910</td>\n",
              "      <td>Eastern Africa</td>\n",
              "      <td>902</td>\n",
              "      <td>Developing regions</td>\n",
              "      <td>11</td>\n",
              "      <td>17</td>\n",
              "      <td>11</td>\n",
              "      <td>7</td>\n",
              "      <td>16</td>\n",
              "      <td>9</td>\n",
              "      <td>15</td>\n",
              "      <td>23</td>\n",
              "      <td>44</td>\n",
              "      <td>68</td>\n",
              "      <td>77</td>\n",
              "      <td>69</td>\n",
              "      <td>73</td>\n",
              "      <td>46</td>\n",
              "      <td>51</td>\n",
              "      <td>41</td>\n",
              "      <td>34</td>\n",
              "      <td>72</td>\n",
              "      <td>34</td>\n",
              "      <td>51</td>\n",
              "      <td>39</td>\n",
              "      <td>78</td>\n",
              "      <td>50</td>\n",
              "      <td>46</td>\n",
              "      <td>56</td>\n",
              "      <td>91</td>\n",
              "      <td>77</td>\n",
              "      <td>71</td>\n",
              "      <td>64</td>\n",
              "      <td>60</td>\n",
              "      <td>102</td>\n",
              "      <td>69</td>\n",
              "      <td>46</td>\n",
              "      <td>59</td>\n",
              "    </tr>\n",
              "    <tr>\n",
              "      <th>194</th>\n",
              "      <td>Immigrants</td>\n",
              "      <td>Foreigners</td>\n",
              "      <td>Zimbabwe</td>\n",
              "      <td>903</td>\n",
              "      <td>Africa</td>\n",
              "      <td>910</td>\n",
              "      <td>Eastern Africa</td>\n",
              "      <td>902</td>\n",
              "      <td>Developing regions</td>\n",
              "      <td>72</td>\n",
              "      <td>114</td>\n",
              "      <td>102</td>\n",
              "      <td>44</td>\n",
              "      <td>32</td>\n",
              "      <td>29</td>\n",
              "      <td>43</td>\n",
              "      <td>68</td>\n",
              "      <td>99</td>\n",
              "      <td>187</td>\n",
              "      <td>129</td>\n",
              "      <td>94</td>\n",
              "      <td>61</td>\n",
              "      <td>72</td>\n",
              "      <td>78</td>\n",
              "      <td>58</td>\n",
              "      <td>39</td>\n",
              "      <td>44</td>\n",
              "      <td>43</td>\n",
              "      <td>49</td>\n",
              "      <td>98</td>\n",
              "      <td>110</td>\n",
              "      <td>191</td>\n",
              "      <td>669</td>\n",
              "      <td>1450</td>\n",
              "      <td>615</td>\n",
              "      <td>454</td>\n",
              "      <td>663</td>\n",
              "      <td>611</td>\n",
              "      <td>508</td>\n",
              "      <td>494</td>\n",
              "      <td>434</td>\n",
              "      <td>437</td>\n",
              "      <td>407</td>\n",
              "    </tr>\n",
              "  </tbody>\n",
              "</table>\n",
              "<p>195 rows × 43 columns</p>\n",
              "</div>"
            ],
            "text/plain": [
              "           Type    Coverage          OdName  AREA  ...  2010  2011  2012  2013\n",
              "0    Immigrants  Foreigners     Afghanistan   935  ...  1758  2203  2635  2004\n",
              "1    Immigrants  Foreigners         Albania   908  ...   561   539   620   603\n",
              "2    Immigrants  Foreigners         Algeria   903  ...  4752  4325  3774  4331\n",
              "3    Immigrants  Foreigners  American Samoa   909  ...     0     0     0     0\n",
              "4    Immigrants  Foreigners         Andorra   908  ...     0     0     1     1\n",
              "..          ...         ...             ...   ...  ...   ...   ...   ...   ...\n",
              "190  Immigrants  Foreigners        Viet Nam   935  ...  1942  1723  1731  2112\n",
              "191  Immigrants  Foreigners  Western Sahara   903  ...     0     0     0     0\n",
              "192  Immigrants  Foreigners           Yemen   935  ...   211   160   174   217\n",
              "193  Immigrants  Foreigners          Zambia   903  ...   102    69    46    59\n",
              "194  Immigrants  Foreigners        Zimbabwe   903  ...   494   434   437   407\n",
              "\n",
              "[195 rows x 43 columns]"
            ]
          },
          "metadata": {
            "tags": []
          },
          "execution_count": 3
        }
      ]
    },
    {
      "cell_type": "code",
      "metadata": {
        "id": "aNchj8_WZwHt",
        "colab_type": "code",
        "colab": {}
      },
      "source": [
        "data.drop(['AREA', 'Coverage', 'Type', 'REG', 'DEV'],axis=1, inplace=True)"
      ],
      "execution_count": 4,
      "outputs": []
    },
    {
      "cell_type": "code",
      "metadata": {
        "id": "SCdzWBARZyOm",
        "colab_type": "code",
        "colab": {}
      },
      "source": [
        "data.rename(columns={'OdName':'Country', 'AreaName':'Continent', 'RegName':'Continent-Region', 'DevName':'Development-status'}, inplace=True)"
      ],
      "execution_count": 5,
      "outputs": []
    },
    {
      "cell_type": "code",
      "metadata": {
        "id": "fTvf58RpZ0Qr",
        "colab_type": "code",
        "colab": {}
      },
      "source": [
        "data.set_index('Country', inplace=True)"
      ],
      "execution_count": 6,
      "outputs": []
    },
    {
      "cell_type": "code",
      "metadata": {
        "id": "SXFmN92xZ6eA",
        "colab_type": "code",
        "colab": {
          "base_uri": "https://localhost:8080/",
          "height": 162
        },
        "outputId": "8ca09ed9-12ac-47cc-f4e8-23dfce3b647d"
      },
      "source": [
        "data['Total'] = df_can.sum(axis=1)"
      ],
      "execution_count": 7,
      "outputs": [
        {
          "output_type": "error",
          "ename": "NameError",
          "evalue": "ignored",
          "traceback": [
            "\u001b[0;31m---------------------------------------------------------------------------\u001b[0m",
            "\u001b[0;31mNameError\u001b[0m                                 Traceback (most recent call last)",
            "\u001b[0;32m<ipython-input-7-be8636419652>\u001b[0m in \u001b[0;36m<module>\u001b[0;34m()\u001b[0m\n\u001b[0;32m----> 1\u001b[0;31m \u001b[0mdata\u001b[0m\u001b[0;34m[\u001b[0m\u001b[0;34m'Total'\u001b[0m\u001b[0;34m]\u001b[0m \u001b[0;34m=\u001b[0m \u001b[0mdf_can\u001b[0m\u001b[0;34m.\u001b[0m\u001b[0msum\u001b[0m\u001b[0;34m(\u001b[0m\u001b[0maxis\u001b[0m\u001b[0;34m=\u001b[0m\u001b[0;36m1\u001b[0m\u001b[0;34m)\u001b[0m\u001b[0;34m\u001b[0m\u001b[0;34m\u001b[0m\u001b[0m\n\u001b[0m",
            "\u001b[0;31mNameError\u001b[0m: name 'df_can' is not defined"
          ]
        }
      ]
    },
    {
      "cell_type": "code",
      "metadata": {
        "id": "64wEl9RXZ8Uy",
        "colab_type": "code",
        "colab": {}
      },
      "source": [
        "years = range(1980,2014)"
      ],
      "execution_count": null,
      "outputs": []
    },
    {
      "cell_type": "code",
      "metadata": {
        "id": "wb1mM59GZ-C7",
        "colab_type": "code",
        "colab": {}
      },
      "source": [
        "data.head()"
      ],
      "execution_count": null,
      "outputs": []
    },
    {
      "cell_type": "code",
      "metadata": {
        "id": "h3SAPIexaA8u",
        "colab_type": "code",
        "colab": {}
      },
      "source": [
        "data['Total'].plot(\n",
        "    kind='pie',\n",
        "    figsize=(10,10),\n",
        "  )\n",
        "plt.title(\"Total immigration to Canada 1980-2013\")\n",
        "plt.show()"
      ],
      "execution_count": null,
      "outputs": []
    },
    {
      "cell_type": "code",
      "metadata": {
        "id": "rHwYl_UdaEx_",
        "colab_type": "code",
        "colab": {}
      },
      "source": [
        "dfnew2 = data[(data['Continent']=='Europe') & (data['Total']>10000)]\n",
        "\n",
        "dfnew2['Total'].plot(\n",
        "    kind='pie',\n",
        "    figsize=(20,15),\n",
        "    autopct='%1.1f%%',\n",
        "    shadow=True,\n",
        "    labels=None\n",
        "  )\n",
        "plt.title(\"Total immigration to Canada from Europe 1980-2013\")\n",
        "plt.legend(labels=dfnew2.index, loc=\"upper left\")\n",
        "plt.show()"
      ],
      "execution_count": null,
      "outputs": []
    },
    {
      "cell_type": "code",
      "metadata": {
        "id": "jra-9LbYaIDT",
        "colab_type": "code",
        "colab": {}
      },
      "source": [
        "dfnew3 = data[(data['Continent']=='Europe') & (data['Total']>100000)]\n",
        "\n",
        "colors = ['yellow','blue','red']\n",
        "explodes = [0,0,0.1]\n",
        "\n",
        "dfnew3['Total'].plot(\n",
        "    kind='pie',\n",
        "    figsize=(10,10),\n",
        "    autopct='%1.1f%%',\n",
        "    shadow=True,\n",
        "    labels=None,\n",
        "    explode=explodes\n",
        "  )\n",
        "plt.title(\"Total immigration to Canada from Europe 1980-2013\")\n",
        "plt.legend(labels=dfnew3.index, loc=\"upper left\")\n",
        "plt.show()"
      ],
      "execution_count": null,
      "outputs": []
    },
    {
      "cell_type": "markdown",
      "metadata": {
        "id": "Bo_Vqam3aqyA",
        "colab_type": "text"
      },
      "source": [
        "Q1. By Continent-region pie-chart use colorlists, explode, pct, figsize, add title, add axes, add legend, remove labels and use shadows."
      ]
    },
    {
      "cell_type": "code",
      "metadata": {
        "id": "cag-WNElaUd5",
        "colab_type": "code",
        "colab": {}
      },
      "source": [
        "dfnew4 = data.groupby('Continent-Region', axis='rows').sum()\n",
        "\n",
        "dfnew4.head()\n",
        "dfnew4['Total'].plot(\n",
        "    kind='pie',\n",
        "    figsize=(15, 20),\n",
        "    autopct='%1.1f%%',\n",
        "    shadow=True,\n",
        "    labels=None,\n",
        "    startangle = 0,\n",
        "  )\n",
        "plt.title(\"Total immigration to Canada from the World Continent-Region wise 1980-2013\")\n",
        "plt.legend(labels=dfnew4.index, loc=\"upper left\")\n",
        "plt.show()"
      ],
      "execution_count": null,
      "outputs": []
    },
    {
      "cell_type": "markdown",
      "metadata": {
        "id": "HVicr-yfbwDg",
        "colab_type": "text"
      },
      "source": [
        "Q2.By Development-status pie-chart use colorlists, explode, pct, figsize, add title, add axes, add legend, remove labels and use shadows."
      ]
    },
    {
      "cell_type": "code",
      "metadata": {
        "id": "yLyEpmS4bJTF",
        "colab_type": "code",
        "colab": {}
      },
      "source": [
        "dfnew4 = data.groupby('Development-status', axis='rows').sum()\n",
        "\n",
        "dfnew4.head()\n",
        "dfnew4['Total'].plot(\n",
        "    kind='pie',\n",
        "    figsize=(10, 10),\n",
        "    autopct='%1.1f%%',\n",
        "    shadow=True,\n",
        "    labels=None,\n",
        "    startangle = 0,\n",
        "  )\n",
        "plt.title(\"Total immigration to Canada from the World Development Status wise 1980-2013\")\n",
        "plt.legend(labels=dfnew4.index, loc=\"upper left\")\n",
        "plt.show()"
      ],
      "execution_count": null,
      "outputs": []
    },
    {
      "cell_type": "code",
      "metadata": {
        "id": "PqywDx-hb3wi",
        "colab_type": "code",
        "colab": {}
      },
      "source": [
        "data.head()\n",
        "\n",
        "df_india = data.loc[['India'],years].transpose()\n",
        "df_india.head()\n",
        "\n",
        "df_india.plot(\n",
        "    kind=\"box\",\n",
        "    figsize=(10,10)\n",
        ")\n",
        "plt.title(\"Immigration from India to Canada 1980-2013\")\n",
        "plt.show()"
      ],
      "execution_count": null,
      "outputs": []
    },
    {
      "cell_type": "code",
      "metadata": {
        "id": "eHrjDUjicYUU",
        "colab_type": "code",
        "colab": {}
      },
      "source": [
        "df_indiapak = data.loc[['India','Pakistan'],years].transpose()\n",
        "df_indiapak.head()\n",
        "\n",
        "df_indiapak.plot(\n",
        "    kind=\"box\",\n",
        "    figsize=(10,10)\n",
        ")\n",
        "plt.title(\"Immigration from India and Pakistan to Canada 1980-2013\")\n",
        "plt.show()"
      ],
      "execution_count": null,
      "outputs": []
    },
    {
      "cell_type": "code",
      "metadata": {
        "id": "O_vKI2c9er3s",
        "colab_type": "code",
        "colab": {}
      },
      "source": [
        "data.sort_values(by='Total', ascending=False, inplace=True, axis='index')\n",
        "\n",
        "dftop5 = data.head(5)\n",
        "\n",
        "dftop5 = dftop5[years].transpose()\n",
        "\n",
        "dfbottom5 = data.tail(5)\n",
        "\n",
        "dfbottom5 = dfbottom5[years].transpose()\n"
      ],
      "execution_count": null,
      "outputs": []
    },
    {
      "cell_type": "code",
      "metadata": {
        "id": "li-LTv5CeaG3",
        "colab_type": "code",
        "colab": {}
      },
      "source": [
        "fig = plt.figure()\n",
        "\n",
        "ax0 = fig.add_subplot(1,2,1)\n",
        "ax1 = fig.add_subplot(1,2,2)\n",
        "\n",
        "\n",
        "dftop5.plot(kind=\"box\",figsize=(20,10),vert=False,color='red', ax=ax0)\n",
        "ax0.set_title(\"Immigration from From top five countries to Canada 1980-2013\")\n",
        "ax0.set_xlabel(\"Number of immigrants\")\n",
        "ax0.set_ylabel(\"Countries\")\n",
        "\n",
        "dfbottom5.plot(kind=\"box\",figsize=(20,10),vert=False,color='red', ax=ax1)\n",
        "ax1.set_title(\"Immigration from From bottom five countries to Canada 1980-2013\")\n",
        "ax1.set_xlabel(\"Number of immigrants\")\n",
        "ax1.set_ylabel(\"Countries\")\n",
        "\n",
        "plt.show()"
      ],
      "execution_count": null,
      "outputs": []
    },
    {
      "cell_type": "markdown",
      "metadata": {
        "id": "ZaCOwZ4ifRmL",
        "colab_type": "text"
      },
      "source": [
        "Q3. Create 4 subplots - to display boxplot of top 5 countries in europe, asia, africa, oceania"
      ]
    },
    {
      "cell_type": "code",
      "metadata": {
        "id": "Ss0KEyxhek_l",
        "colab_type": "code",
        "colab": {}
      },
      "source": [
        "data.sort_values(by='Total', ascending=False, inplace=True, axis='index')"
      ],
      "execution_count": null,
      "outputs": []
    },
    {
      "cell_type": "code",
      "metadata": {
        "id": "IWDIjr8qfnN0",
        "colab_type": "code",
        "colab": {}
      },
      "source": [
        "asia = data[data['Continent']=='Asia'].head(5)\n",
        "asia = asia[years].transpose()\n",
        "europe = data[data['Continent']=='Europe'].head(5)\n",
        "europe = europe[years].transpose()\n",
        "africa = data[data['Continent']=='Africa'].head(5)\n",
        "africa = africa[years].transpose()\n",
        "oceania = data[data['Continent']=='Oceania'].head(5)\n",
        "oceania = oceania[years].transpose()"
      ],
      "execution_count": null,
      "outputs": []
    },
    {
      "cell_type": "code",
      "metadata": {
        "id": "G_aruYb9gLu4",
        "colab_type": "code",
        "colab": {}
      },
      "source": [
        "fig = plt.figure()\n",
        "\n",
        "ax0 = fig.add_subplot(1,4,1)\n",
        "ax1 = fig.add_subplot(1,4,2)\n",
        "ax2 = fig.add_subplot(1,4,3)\n",
        "ax3 = fig.add_subplot(1,4,4)\n",
        "\n",
        "asia.plot(kind=\"box\",figsize=(10,10),vert=False,color='blue', ax=ax0)\n",
        "ax0.set_title(\"Immigration from From top five countries in Asia to Canada 1980-2013\")\n",
        "ax0.set_xlabel(\"Number of immigrants\")\n",
        "ax0.set_ylabel(\"Countries\")\n",
        "\n",
        "europe.plot(kind=\"box\",figsize=(10,10),vert=False,color='red', ax=ax1)\n",
        "ax1.set_title(\"Immigration from From bottom five countries in Europe to Canada 1980-2013\")\n",
        "ax1.set_xlabel(\"Number of immigrants\")\n",
        "ax1.set_ylabel(\"Countries\")\n",
        "\n",
        "africa.plot(kind=\"box\",figsize=(10,10),vert=False,color='black', ax=ax1)\n",
        "ax2.set_title(\"Immigration from From bottom five countries in Africa to Canada 1980-2013\")\n",
        "ax2.set_xlabel(\"Number of immigrants\")\n",
        "ax2.set_ylabel(\"Countries\")\n",
        "\n",
        "oceania.plot(kind=\"box\",figsize=(10,10),vert=False,color='green', ax=ax1)\n",
        "ax3.set_title(\"Immigration from From bottom five countries in Oceania to Canada 1980-2013\")\n",
        "ax3.set_xlabel(\"Number of immigrants\")\n",
        "ax3.set_ylabel(\"Countries\")\n",
        "\n",
        "plt.show()"
      ],
      "execution_count": null,
      "outputs": []
    },
    {
      "cell_type": "code",
      "metadata": {
        "id": "bjsHkYC3gOqM",
        "colab_type": "code",
        "colab": {}
      },
      "source": [
        "dfindia = data.loc[['India'], years].transpose().describe()\n",
        "\n",
        "Q1 = 10343.0\n",
        "Q3= 28572.0\n",
        "IQR=Q3-Q1\n",
        "Outlier1 = Q3+1.5*IQR\n",
        "Outlier2 = Q1 - 1.5*IQR\n",
        "print(Outlier1)\n",
        "print(Outlier2)"
      ],
      "execution_count": null,
      "outputs": []
    },
    {
      "cell_type": "code",
      "metadata": {
        "id": "0Te3wMrngdsj",
        "colab_type": "code",
        "colab": {}
      },
      "source": [
        "dfindia = data.loc[['India'], years]\n",
        "dfindia = dfindia[2013].describe()\n",
        "q1 = dfindia.loc['75%']\n",
        "q1"
      ],
      "execution_count": null,
      "outputs": []
    },
    {
      "cell_type": "markdown",
      "metadata": {
        "id": "jdvYs_nWhePc",
        "colab_type": "text"
      },
      "source": [
        "Q4. Identify countries which are outliers based on total migration"
      ]
    },
    {
      "cell_type": "code",
      "metadata": {
        "id": "qBRGgeLdg1hk",
        "colab_type": "code",
        "colab": {}
      },
      "source": [
        "for country in data.index:\n",
        "  df = data.loc[[country], years].transpose().describe()\n",
        "  Q1 = df.loc['25%']\n",
        "  Q3 = df.loc['75%']\n",
        "  IQR=Q3-Q1\n",
        "  Outlier1 = Q3+1.5*IQR\n",
        "  Outlier2 = Q1 - 1.5*IQR\n",
        "  print(Outlier1)\n",
        "  print(Outlier2)\n",
        "  print(\"----\")"
      ],
      "execution_count": null,
      "outputs": []
    },
    {
      "cell_type": "code",
      "metadata": {
        "id": "bVCRzwO5hkYb",
        "colab_type": "code",
        "colab": {}
      },
      "source": [
        "years = range(1980,2014)\n",
        "dfscat = pd.DataFrame(data[years].sum(axis='index'))\n",
        "\n",
        "dfscat.reset_index(inplace=True)\n",
        "\n",
        "dfscat.columns = ['Year', 'Total']\n",
        "\n",
        "dfscat.head()"
      ],
      "execution_count": null,
      "outputs": []
    },
    {
      "cell_type": "code",
      "metadata": {
        "id": "eo8My3s7i28L",
        "colab_type": "code",
        "colab": {}
      },
      "source": [
        "import numpy as np\n",
        "x=dfscat['Year']\n",
        "y=dfscat['Total']\n",
        "fit=np.polyfit(x,y,1)\n",
        "dfscat.plot(\n",
        "    kind='scatter',\n",
        "    figsize=(10,10),\n",
        "    x='Year',\n",
        "    y='Total',\n",
        "    color='blue'\n",
        ")\n",
        "plt.title(\"Total immigration to canada from 1980-2013\")\n",
        "plt.xlabel(\"Years\")\n",
        "plt.ylabel(\"Number of immigrants\")\n",
        "\n",
        "plt.plot(x, fit[0]*x+fit[1], color='red')\n",
        "\n",
        "plt.show()"
      ],
      "execution_count": null,
      "outputs": []
    },
    {
      "cell_type": "code",
      "metadata": {
        "id": "660VW0NnjIOh",
        "colab_type": "code",
        "colab": {}
      },
      "source": [
        "dfindopak = data.loc[['India','Pakistan'], years].transpose()\n",
        "dfindopak.reset_index(inplace=True)\n",
        "dfindopak.index.name = 'index'\n",
        "dfindopak.rename(columns={'index':'Year'}, inplace=True)\n",
        "\n",
        "ax0 = dfindopak.plot(\n",
        "    kind='scatter',\n",
        "    figsize=(10,10),\n",
        "    x='Year',\n",
        "    y='India',\n",
        "    color='blue'\n",
        ")\n",
        "\n",
        "ax1 = dfindopak.plot(\n",
        "    kind='scatter',\n",
        "    figsize=(10,10),\n",
        "    x='Year',\n",
        "    y='Pakistan',\n",
        "    color='green',\n",
        "    ax=ax0\n",
        ")\n",
        "\n",
        "\n",
        "ax0.set_title(\"India and Pakistan immigration to canada from 1980-2013\")\n",
        "ax0.set_xlabel(\"Years\")\n",
        "ax0.set_ylabel(\"Number of immigrants\")\n",
        "ax0.legend(['India','Pakistan'], loc='upper left')"
      ],
      "execution_count": null,
      "outputs": []
    },
    {
      "cell_type": "code",
      "metadata": {
        "id": "dh2IkoG4jP-6",
        "colab_type": "code",
        "colab": {}
      },
      "source": [
        "normindia = (dfindopak['India'] - dfindopak['India'].min()) / (dfindopak['India'].max() - dfindopak['India'].min())\n",
        "normpak = (dfindopak['Pakistan'] - dfindopak['Pakistan'].min()) / (dfindopak['Pakistan'].max() - dfindopak['Pakistan'].min())\n",
        "\n",
        "ax0 = dfindopak.plot(\n",
        "    kind='scatter',\n",
        "    figsize=(10,10),\n",
        "    x='Year',\n",
        "    y='India',\n",
        "    color='blue',\n",
        "    s = normindia*200\n",
        ")\n",
        "\n",
        "ax1 = dfindopak.plot(\n",
        "    kind='scatter',\n",
        "    figsize=(10,10),\n",
        "    x='Year',\n",
        "    y='Pakistan',\n",
        "    color='green',\n",
        "    ax=ax0,\n",
        "    s = normpak*200\n",
        ")\n",
        "\n",
        "\n",
        "ax0.set_title(\"India and Pakistan immigration to canada from 1980-2013\")\n",
        "ax0.set_xlabel(\"Years\")\n",
        "ax0.set_ylabel(\"Number of immigrants\")\n",
        "ax0.legend(['India','Pakistan'], loc='upper left')"
      ],
      "execution_count": null,
      "outputs": []
    },
    {
      "cell_type": "markdown",
      "metadata": {
        "id": "1FVCzmnDjqLq",
        "colab_type": "text"
      },
      "source": [
        "Q5. Plot the bubble plot for Norway, Denmark, Finland"
      ]
    },
    {
      "cell_type": "code",
      "metadata": {
        "id": "yilGc08jjSsk",
        "colab_type": "code",
        "colab": {}
      },
      "source": [
        "df = data.loc[['Norway','Denmark', 'Finland'], years].transpose()\n",
        "df.reset_index(inplace=True)\n",
        "df.index.name = 'index'\n",
        "df.rename(columns={'index':'Year'}, inplace=True)\n",
        "\n",
        "normnor = (df['Norway'] - df['Norway'].min()) / (df['Norway'].max() - df['Norway'].min())\n",
        "normden = (df['Denmark'] - df['Denmark'].min()) / (df['Denmark'].max() - df['Denmark'].min())\n",
        "normfin = (df['Finland'] - df['Finland'].min()) / (df['Finland'].max() - df['Finland'].min())\n",
        "\n",
        "\n",
        "ax0 = df.plot(\n",
        "    kind='scatter',\n",
        "    figsize=(10,10),\n",
        "    x='Year',\n",
        "    y='Norway',\n",
        "    color='blue',\n",
        "    s = normnor*200\n",
        ")\n",
        "\n",
        "ax1 = df.plot(\n",
        "    kind='scatter',\n",
        "    figsize=(10,10),\n",
        "    x='Year',\n",
        "    y='Denmark',\n",
        "    color='green',\n",
        "    ax=ax0,\n",
        "    s = normden*200\n",
        ")\n",
        "ax2 = df.plot(\n",
        "    kind='scatter',\n",
        "    figsize=(10,10),\n",
        "    x='Year',\n",
        "    y='Norway',\n",
        "    color='red',\n",
        "    ax=ax0,\n",
        "    s = normfin*200\n",
        ")\n",
        "\n",
        "\n",
        "ax0.set_title(\"Norway, Denmark and Finland immigration to canada from 1980-2013\")\n",
        "ax0.set_xlabel(\"Years\")\n",
        "ax0.set_ylabel(\"Number of immigrants\")\n",
        "ax0.legend(['Norway', 'Denmark', 'Finland'], loc='upper right')"
      ],
      "execution_count": null,
      "outputs": []
    },
    {
      "cell_type": "markdown",
      "metadata": {
        "id": "DyxMfmuYkF3w",
        "colab_type": "text"
      },
      "source": [
        "Exercise 2:\n",
        "Q1. Scatter plot for Norway, Denmark and sweden"
      ]
    },
    {
      "cell_type": "code",
      "metadata": {
        "id": "v4RqzlcDj2Bl",
        "colab_type": "code",
        "colab": {}
      },
      "source": [
        "df = data.loc[['Norway','Denmark', 'Sweden'], years].transpose()\n",
        "df.reset_index(inplace=True)\n",
        "df.index.name = 'index'\n",
        "df.rename(columns={'index':'Year'}, inplace=True)\n",
        "\n",
        "\n",
        "ax0 = df.plot(\n",
        "    kind='scatter',\n",
        "    figsize=(10,10),\n",
        "    x='Year',\n",
        "    y='Norway',\n",
        "    color='blue'\n",
        ")\n",
        "\n",
        "ax1 = df.plot(\n",
        "    kind='scatter',\n",
        "    figsize=(10,10),\n",
        "    x='Year',\n",
        "    y='Denmark',\n",
        "    color='green',\n",
        "    ax=ax0\n",
        ")\n",
        "ax2 = df.plot(\n",
        "    kind='scatter',\n",
        "    figsize=(10,10),\n",
        "    x='Year',\n",
        "    y='Sweden',\n",
        "    color='red',\n",
        "    ax=ax0\n",
        ")\n",
        "\n",
        "\n",
        "ax0.set_title(\"Norway, Denmark and Sweden immigration to canada from 1980-2013\")\n",
        "ax0.set_xlabel(\"Years\")\n",
        "ax0.set_ylabel(\"Number of immigrants\")\n",
        "ax0.legend(['Norway', 'Denmark', 'Sweden'], loc='upper right')"
      ],
      "execution_count": null,
      "outputs": []
    },
    {
      "cell_type": "markdown",
      "metadata": {
        "id": "MscfJ0hgk3F6",
        "colab_type": "text"
      },
      "source": [
        "**Q2. Bubble plot for Norway, Denmark and Sweden**"
      ]
    },
    {
      "cell_type": "code",
      "metadata": {
        "id": "AtZuXIE9krNV",
        "colab_type": "code",
        "colab": {}
      },
      "source": [
        "df = data.loc[['Norway','Denmark', 'Sweden'], years].transpose()\n",
        "df.reset_index(inplace=True)\n",
        "df.index.name = 'index'\n",
        "df.rename(columns={'index':'Year'}, inplace=True)\n",
        "\n",
        "normnor = (df['Norway'] - df['Norway'].min()) / (df['Norway'].max() - df['Norway'].min())\n",
        "normden = (df['Denmark'] - df['Denmark'].min()) / (df['Denmark'].max() - df['Denmark'].min())\n",
        "normfin = (df['Sweden'] - df['Sweden'].min()) / (df['Sweden'].max() - df['Sweden'].min())\n",
        "\n",
        "\n",
        "ax0 = df.plot(\n",
        "    kind='scatter',\n",
        "    figsize=(10,10),\n",
        "    x='Year',\n",
        "    y='Norway',\n",
        "    color='blue',\n",
        "    s = normnor*200\n",
        ")\n",
        "\n",
        "ax1 = df.plot(\n",
        "    kind='scatter',\n",
        "    figsize=(10,10),\n",
        "    x='Year',\n",
        "    y='Denmark',\n",
        "    color='green',\n",
        "    ax=ax0,\n",
        "    s = normden*200\n",
        ")\n",
        "ax2 = df.plot(\n",
        "    kind='scatter',\n",
        "    figsize=(10,10),\n",
        "    x='Year',\n",
        "    y='Sweden',\n",
        "    color='red',\n",
        "    ax=ax0,\n",
        "    s = normfin*200\n",
        ")\n",
        "\n",
        "\n",
        "ax0.set_title(\"Norway, Denmark and Sweden immigration to canada from 1980-2013\")\n",
        "ax0.set_xlabel(\"Years\")\n",
        "ax0.set_ylabel(\"Number of immigrants\")\n",
        "ax0.legend(['Norway', 'Denmark', 'Sweden'], loc='upper right')"
      ],
      "execution_count": null,
      "outputs": []
    },
    {
      "cell_type": "markdown",
      "metadata": {
        "id": "-GeAc2b-lscZ",
        "colab_type": "text"
      },
      "source": [
        "Q3. Boxplot for Norway, denmark and sweden"
      ]
    },
    {
      "cell_type": "code",
      "metadata": {
        "id": "YOwcZch7lccw",
        "colab_type": "code",
        "colab": {}
      },
      "source": [
        "df_nds = data.loc[['Norway','Denmark', 'Sweden'],years].transpose()\n",
        "df_nds.head()\n",
        "\n",
        "df_nds.plot(\n",
        "    kind=\"box\",\n",
        "    figsize=(10,10)\n",
        ")\n",
        "plt.title(\"Immigration from Norway, Denmark and Sweden to Canada 1980-2013\")\n",
        "plt.show()"
      ],
      "execution_count": null,
      "outputs": []
    },
    {
      "cell_type": "markdown",
      "metadata": {
        "id": "aa2hPHrNmMO2",
        "colab_type": "text"
      },
      "source": [
        "Q4. Waffle Chart for Norway, denmark and sweden"
      ]
    },
    {
      "cell_type": "code",
      "metadata": {
        "id": "qvWEKa9Ul2u6",
        "colab_type": "code",
        "colab": {}
      },
      "source": [
        "%matplotlib inline\n",
        "\n",
        "import matplotlib as mpl\n",
        "import matplotlib.pyplot as plt\n",
        "import matplotlib.patches as mpatches # needed for waffle Charts\n",
        "\n",
        "mpl.style.use('ggplot') # optional: for ggplot-like style\n",
        "\n",
        "# check for latest version of Matplotlib\n",
        "print ('Matplotlib version: ', mpl.__version__) # >= 2.0.0"
      ],
      "execution_count": null,
      "outputs": []
    },
    {
      "cell_type": "code",
      "metadata": {
        "id": "YcOlNjQhml1v",
        "colab_type": "code",
        "colab": {}
      },
      "source": [
        "def create_waffle_chart(categories, values, height, width, colormap, value_sign=''):\n",
        "\n",
        "    # compute the proportion of each category with respect to the total\n",
        "    total_values = sum(values)\n",
        "    category_proportions = [(float(value) / total_values) for value in values]\n",
        "\n",
        "    # compute the total number of tiles\n",
        "    total_num_tiles = width * height # total number of tiles\n",
        "    print ('Total number of tiles is', total_num_tiles)\n",
        "    \n",
        "    # compute the number of tiles for each catagory\n",
        "    tiles_per_category = [round(proportion * total_num_tiles) for proportion in category_proportions]\n",
        "\n",
        "    # print out number of tiles per category\n",
        "    for i, tiles in enumerate(tiles_per_category):\n",
        "        print (df_nds.index.values[i] + ': ' + str(tiles))\n",
        "    \n",
        "    # initialize the waffle chart as an empty matrix\n",
        "    waffle_chart = np.zeros((height, width))\n",
        "\n",
        "    # define indices to loop through waffle chart\n",
        "    category_index = 0\n",
        "    tile_index = 0\n",
        "\n",
        "    # populate the waffle chart\n",
        "    for col in range(width):\n",
        "        for row in range(height):\n",
        "            tile_index += 1\n",
        "\n",
        "            # if the number of tiles populated for the current category \n",
        "            # is equal to its corresponding allocated tiles...\n",
        "            if tile_index > sum(tiles_per_category[0:category_index]):\n",
        "                # ...proceed to the next category\n",
        "                category_index += 1       \n",
        "            \n",
        "            # set the class value to an integer, which increases with class\n",
        "            waffle_chart[row, col] = category_index\n",
        "    \n",
        "    # instantiate a new figure object\n",
        "    fig = plt.figure()\n",
        "\n",
        "    # use matshow to display the waffle chart\n",
        "    colormap = plt.cm.coolwarm\n",
        "    plt.matshow(waffle_chart, cmap=colormap)\n",
        "    plt.colorbar()\n",
        "\n",
        "    # get the axis\n",
        "    ax = plt.gca()\n",
        "\n",
        "    # set minor ticks\n",
        "    ax.set_xticks(np.arange(-.5, (width), 1), minor=True)\n",
        "    ax.set_yticks(np.arange(-.5, (height), 1), minor=True)\n",
        "    \n",
        "    # add dridlines based on minor ticks\n",
        "    ax.grid(which='minor', color='w', linestyle='-', linewidth=2)\n",
        "\n",
        "    plt.xticks([])\n",
        "    plt.yticks([])\n",
        "\n",
        "    # compute cumulative sum of individual categories to match color schemes between chart and legend\n",
        "    values_cumsum = np.cumsum(values)\n",
        "    total_values = values_cumsum[len(values_cumsum) - 1]\n",
        "\n",
        "    # create legend\n",
        "    legend_handles = []\n",
        "    for i, category in enumerate(categories):\n",
        "        if value_sign == '%':\n",
        "            label_str = category + ' (' + str(values[i]) + value_sign + ')'\n",
        "        else:\n",
        "            label_str = category + ' (' + value_sign + str(values[i]) + ')'\n",
        "            \n",
        "        color_val = colormap(float(values_cumsum[i])/total_values)\n",
        "        legend_handles.append(mpatches.Patch(color=color_val, label=label_str))\n",
        "\n",
        "    # add legend to chart\n",
        "    plt.legend(\n",
        "        handles=legend_handles,\n",
        "        loc='lower center', \n",
        "        ncol=len(categories),\n",
        "        bbox_to_anchor=(0., -0.2, 0.95, .1)\n",
        "    )"
      ],
      "execution_count": null,
      "outputs": []
    },
    {
      "cell_type": "code",
      "metadata": {
        "id": "I3u8aDoymrlT",
        "colab_type": "code",
        "colab": {}
      },
      "source": [
        "df_nds = data.loc[['Norway','Denmark', 'Sweden'],:]\n",
        "df_nds.head()\n",
        "categories = df_nds.index.values\n",
        "\n",
        "value = df_nds['Total']\n",
        "\n",
        "#create a waffle chart\n",
        "\n",
        "width=40\n",
        "height=10\n",
        "\n",
        "colormap = plt.cm.coolwarm"
      ],
      "execution_count": null,
      "outputs": []
    },
    {
      "cell_type": "code",
      "metadata": {
        "id": "P6Q9JdeJnAc8",
        "colab_type": "code",
        "colab": {}
      },
      "source": [
        "create_waffle_chart(categories, value, height, width, colormap)"
      ],
      "execution_count": null,
      "outputs": []
    },
    {
      "cell_type": "markdown",
      "metadata": {
        "id": "Xm_hoAv9nf3y",
        "colab_type": "text"
      },
      "source": [
        "Q5. Check for outliers in years 2013"
      ]
    },
    {
      "cell_type": "code",
      "metadata": {
        "id": "Lvprld2QnCKO",
        "colab_type": "code",
        "colab": {}
      },
      "source": [
        "for country in data.index:\n",
        "  print(country)\n",
        "  df = data.loc[[country], years].transpose()\n",
        "  df = df.loc[2013].describe()\n",
        "  Q1 = df.loc['25%']\n",
        "  Q3 = df.loc['75%']\n",
        "  IQR=Q3-Q1\n",
        "  Outlier1 = Q3+1.5*IQR\n",
        "  Outlier2 = Q1 - 1.5*IQR\n",
        "  print(Outlier1)\n",
        "  print(Outlier2)\n",
        "  print('\\n')"
      ],
      "execution_count": null,
      "outputs": []
    },
    {
      "cell_type": "markdown",
      "metadata": {
        "id": "Lok5k8nUol3r",
        "colab_type": "text"
      },
      "source": [
        "Q6. Plot for mumbai city crimes (markers to map)"
      ]
    },
    {
      "cell_type": "code",
      "metadata": {
        "id": "POfSuyajpbp2",
        "colab_type": "code",
        "colab": {}
      },
      "source": [
        "\n",
        "import numpy as np\n",
        "import pandas as pd\n",
        "import folium"
      ],
      "execution_count": null,
      "outputs": []
    },
    {
      "cell_type": "code",
      "metadata": {
        "id": "YlDp6XsLpRoJ",
        "colab_type": "code",
        "colab": {}
      },
      "source": [
        "df_incidents = pd.read_csv('https://s3-api.us-geo.objectstorage.softlayer.net/cf-courses-data/CognitiveClass/DV0101EN/labs/Data_Files/Police_Department_Incidents_-_Previous_Year__2016_.csv')\n",
        "\n",
        "print('Dataset downloaded and read into a pandas dataframe!')\n",
        "\n",
        "df_incidents.head()\n",
        "\n",
        "df_incidents.shape"
      ],
      "execution_count": null,
      "outputs": []
    },
    {
      "cell_type": "code",
      "metadata": {
        "id": "CRtS1XRRpW7c",
        "colab_type": "code",
        "colab": {}
      },
      "source": [
        "df1 = df_incidents.iloc[0:100,:]\n",
        "\n",
        "lat = 37.77\n",
        "long = -122.42\n",
        "\n",
        "\n",
        "map2 = folium.Map(location=[lat, long], zoom_start=12)\n",
        "\n",
        "map2"
      ],
      "execution_count": null,
      "outputs": []
    },
    {
      "cell_type": "code",
      "metadata": {
        "id": "r6Ui8BmqoEwJ",
        "colab_type": "code",
        "colab": {}
      },
      "source": [
        "#get dataset\n",
        "df1 = df_incidents.iloc[0:100,:]\n",
        "\n",
        "#created a map\n",
        "lat = 19.0760\n",
        "long = 72.8777\n",
        "map2 = folium.Map(location=[lat, long], zoom_start=12)\n",
        "\n",
        "\n",
        "#Step 2: type of markers to use\n",
        "for lat, long, labs in zip(df1.Y, df1.X, df1.Category):\n",
        "       folium.CircleMarker(\n",
        "           [lat, long],\n",
        "           radius=5,\n",
        "           color='yellow',\n",
        "           fill=True,  \n",
        "           popup=labs        \n",
        "       ).add_to(map2)\n",
        "#Step 3: show map\n",
        "map2"
      ],
      "execution_count": null,
      "outputs": []
    },
    {
      "cell_type": "code",
      "metadata": {
        "id": "LrNrMiJWpGic",
        "colab_type": "code",
        "colab": {}
      },
      "source": [
        "#get dataset\n",
        "df1 = df_incidents.iloc[0:100,:]\n",
        "\n",
        "#created a map\n",
        "lat = 19.0760\n",
        "long = 72.8777\n",
        "map2 = folium.Map(location=[lat, long], zoom_start=12)\n",
        "\n",
        "\n",
        "#Step 1: records have to be stores in  a datastricture\n",
        "incidents = folium.map.FeatureGroup()\n",
        "\n",
        "\n",
        "\n",
        "#Step 2: type of markers to use\n",
        "for lat, long, labs in zip(df1.Y, df1.X, df1.Category):\n",
        "   incidents.add_child(\n",
        "       folium.CircleMarker(\n",
        "           [lat, long],\n",
        "           radius=5,\n",
        "           color='yellow',\n",
        "           fill=True,  \n",
        "           popup=labs        \n",
        "       ).add_to(incidents)\n",
        "\n",
        "\n",
        "   )\n",
        "\n",
        "\n",
        "#Step 3: add map\n",
        "map2.add_child(incidents)"
      ],
      "execution_count": null,
      "outputs": []
    },
    {
      "cell_type": "markdown",
      "metadata": {
        "id": "xko-XBn3qRhg",
        "colab_type": "text"
      },
      "source": [
        "Chloropleth maps"
      ]
    },
    {
      "cell_type": "code",
      "metadata": {
        "id": "AavVVYygptLA",
        "colab_type": "code",
        "colab": {}
      },
      "source": [
        "import numpy as np  # useful for many scientific computing in Python\n",
        "import pandas as pd # primary data structure library\n",
        "\n",
        "data = pd.read_excel('https://s3-api.us-geo.objectstorage.softlayer.net/cf-courses-data/CognitiveClass/DV0101EN/labs/Data_Files/Canada.xlsx',\n",
        "                       sheet_name='Canada by Citizenship',\n",
        "                       skiprows=range(20),\n",
        "                       skipfooter=2\n",
        "                      )\n",
        "\n",
        "print('Data downloaded and read into a dataframe!')\n",
        "\n",
        "data.drop(['AREA','Type','Coverage','DEV','REG'], inplace=True, axis='columns')\n",
        "\n",
        "data.rename(columns={'OdName':'Country','AreaName':'Continent','RegName':'Continent-Region','DevName':'Development-status'}, inplace=True)\n",
        "\n",
        "data['Total'] = data.sum(axis='columns')\n",
        "\n",
        "years = range(1980, 2014)\n",
        "\n",
        "data.head()"
      ],
      "execution_count": null,
      "outputs": []
    },
    {
      "cell_type": "code",
      "metadata": {
        "id": "pZUu4aaXqZtM",
        "colab_type": "code",
        "colab": {}
      },
      "source": [
        "!wget --quiet https://s3-api.us-geo.objectstorage.softlayer.net/cf-courses-data/CognitiveClass/DV0101EN/labs/Data_Files/world_countries.json -O world_countries.json\n",
        "    \n",
        "print('GeoJSON file downloaded!')"
      ],
      "execution_count": null,
      "outputs": []
    },
    {
      "cell_type": "code",
      "metadata": {
        "id": "bP7DTDRZqzHv",
        "colab_type": "code",
        "colab": {}
      },
      "source": [
        "world_geo = r'world_countries.json' # geojson file\n",
        "\n",
        "# create a plain world map\n",
        "world_map = folium.Map(location=[0, 0], zoom_start=2)\n",
        "\n",
        "world_map"
      ],
      "execution_count": null,
      "outputs": []
    },
    {
      "cell_type": "code",
      "metadata": {
        "id": "CiQjopX-q1Yt",
        "colab_type": "code",
        "colab": {}
      },
      "source": [
        "world_map.choropleth(\n",
        "    geo_data = world_geo,\n",
        "    data = data,\n",
        "    columns = ['Country', 'Total'],\n",
        "    legend_name = 'Immigration to Canada',\n",
        "    key_on='feature.properties.name',\n",
        "    fill_color='YlOrRd',\n",
        "    fill_opacity=0.7,\n",
        "    line_opacity=0.2\n",
        ")\n",
        "\n",
        "world_map"
      ],
      "execution_count": null,
      "outputs": []
    },
    {
      "cell_type": "code",
      "metadata": {
        "id": "qAp3Xk3_q6rL",
        "colab_type": "code",
        "colab": {}
      },
      "source": [
        "\n",
        "scale = np.linspace(data['Total'].min(), data['Total'].max(), 6, dtype=int)\n",
        "scale = scale.tolist()\n",
        "scale[-1] = scale[-1]+1\n",
        "\n",
        "world_map = folium.Map(location=[0,0], zoom_start=2, tiles='Mapbox Bright')\n",
        "world_map.choropleth(\n",
        "    geo_data = world_geo,\n",
        "    data = data,\n",
        "    columns = ['Country', 'Total'],\n",
        "    legend_name = 'Immigration to Canada',\n",
        "    key_on='feature.properties.name',\n",
        "    fill_color='YlOrRd',\n",
        "    fill_opacity=0.7,\n",
        "    line_opacity=0.2,\n",
        "    threshold_scale= scale,\n",
        "    reset=True\n",
        ")\n",
        "\n",
        "world_map"
      ],
      "execution_count": null,
      "outputs": []
    }
  ]
}