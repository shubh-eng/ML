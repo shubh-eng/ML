{
  "nbformat": 4,
  "nbformat_minor": 0,
  "metadata": {
    "colab": {
      "name": "Exp1_J069_9_07_20.ipynb",
      "provenance": [],
      "authorship_tag": "ABX9TyNy9Z26o3TZnPyoTQHYIRzy",
      "include_colab_link": true
    },
    "kernelspec": {
      "name": "python3",
      "display_name": "Python 3"
    }
  },
  "cells": [
    {
      "cell_type": "markdown",
      "metadata": {
        "id": "view-in-github",
        "colab_type": "text"
      },
      "source": [
        "<a href=\"https://colab.research.google.com/github/shubh-eng/ML/blob/master/Exp1_J069_9_07_20.ipynb\" target=\"_parent\"><img src=\"https://colab.research.google.com/assets/colab-badge.svg\" alt=\"Open In Colab\"/></a>"
      ]
    },
    {
      "cell_type": "code",
      "metadata": {
        "id": "61VuW6qA6a1z",
        "colab_type": "code",
        "colab": {
          "base_uri": "https://localhost:8080/",
          "height": 70
        },
        "outputId": "50b43c8f-5d71-4834-ae8e-0fb24a2e4054"
      },
      "source": [
        "import pandas as pd\n",
        "import numpy as np\n",
        "import matplotlib.pyplot as plt\n",
        "import seaborn as sns"
      ],
      "execution_count": 11,
      "outputs": [
        {
          "output_type": "stream",
          "text": [
            "/usr/local/lib/python3.6/dist-packages/statsmodels/tools/_testing.py:19: FutureWarning: pandas.util.testing is deprecated. Use the functions in the public API at pandas.testing instead.\n",
            "  import pandas.util.testing as tm\n"
          ],
          "name": "stderr"
        }
      ]
    },
    {
      "cell_type": "code",
      "metadata": {
        "id": "xc78ekrZ6m8_",
        "colab_type": "code",
        "colab": {}
      },
      "source": [
        "df1=pd.read_csv('depression.csv')\n",
        "df2=pd.read_csv('actor_age.csv')\n",
        "df3=pd.read_csv('friends.csv')\n",
        "df4=pd.read_csv('grad_data.csv')\n",
        "df5=pd.read_csv('ratings.csv')"
      ],
      "execution_count": 4,
      "outputs": []
    },
    {
      "cell_type": "code",
      "metadata": {
        "id": "m6dmGuPj63B7",
        "colab_type": "code",
        "colab": {}
      },
      "source": [
        ""
      ],
      "execution_count": null,
      "outputs": []
    },
    {
      "cell_type": "markdown",
      "metadata": {
        "id": "gUTkmLEM67l6",
        "colab_type": "text"
      },
      "source": [
        "QUESTION 1\n"
      ]
    },
    {
      "cell_type": "code",
      "metadata": {
        "id": "FbjZnC3X6-Df",
        "colab_type": "code",
        "colab": {
          "base_uri": "https://localhost:8080/",
          "height": 118
        },
        "outputId": "8b37ba5c-17f4-41d8-8718-e0be2b92926d"
      },
      "source": [
        "print(df1.head())"
      ],
      "execution_count": 5,
      "outputs": [
        {
          "output_type": "stream",
          "text": [
            "   Unnamed: 0  Hospt  Treat  Outcome        Time  AcuteT  Age  Gender\n",
            "0           1      1      0        1   36.143002     211   33       1\n",
            "1           2      1      1        0  105.142998     176   49       1\n",
            "2           3      1      1        0   74.570999     191   50       1\n",
            "3           4      1      0        1   49.714001     206   29       2\n",
            "4           5      1      0        0   14.429000      63   29       1\n"
          ],
          "name": "stdout"
        }
      ]
    },
    {
      "cell_type": "markdown",
      "metadata": {
        "id": "VK0bVoTv7KeW",
        "colab_type": "text"
      },
      "source": [
        "Hospt,Treat,Outcome and Gender appear to be categorical variables since they have separate classes\n"
      ]
    },
    {
      "cell_type": "code",
      "metadata": {
        "id": "0KcIsivi7U5V",
        "colab_type": "code",
        "colab": {}
      },
      "source": [
        ""
      ],
      "execution_count": null,
      "outputs": []
    },
    {
      "cell_type": "markdown",
      "metadata": {
        "id": "YRSco8AJ7Ybm",
        "colab_type": "text"
      },
      "source": [
        "QUESTION 2\n"
      ]
    },
    {
      "cell_type": "code",
      "metadata": {
        "id": "eayzpH857awL",
        "colab_type": "code",
        "colab": {
          "base_uri": "https://localhost:8080/",
          "height": 118
        },
        "outputId": "19c7be93-5eb6-4b09-cd47-9f4bb00ec20d"
      },
      "source": [
        "print(df1.head())"
      ],
      "execution_count": 6,
      "outputs": [
        {
          "output_type": "stream",
          "text": [
            "   Unnamed: 0  Hospt  Treat  Outcome        Time  AcuteT  Age  Gender\n",
            "0           1      1      0        1   36.143002     211   33       1\n",
            "1           2      1      1        0  105.142998     176   49       1\n",
            "2           3      1      1        0   74.570999     191   50       1\n",
            "3           4      1      0        1   49.714001     206   29       2\n",
            "4           5      1      0        0   14.429000      63   29       1\n"
          ],
          "name": "stdout"
        }
      ]
    },
    {
      "cell_type": "markdown",
      "metadata": {
        "id": "VKoQWLNE7h7z",
        "colab_type": "text"
      },
      "source": [
        "Time, AcuteT and age appear to be quantative variables.\n"
      ]
    },
    {
      "cell_type": "markdown",
      "metadata": {
        "id": "UkeZh4G1738q",
        "colab_type": "text"
      },
      "source": [
        "QUESTION 3"
      ]
    },
    {
      "cell_type": "code",
      "metadata": {
        "id": "4F_hYPCk75Ez",
        "colab_type": "code",
        "colab": {
          "base_uri": "https://localhost:8080/",
          "height": 34
        },
        "outputId": "64cf8a41-7c46-4505-c1c9-4cd5a2206e7a"
      },
      "source": [
        "df3.shape"
      ],
      "execution_count": 8,
      "outputs": [
        {
          "output_type": "execute_result",
          "data": {
            "text/plain": [
              "(1200, 2)"
            ]
          },
          "metadata": {
            "tags": []
          },
          "execution_count": 8
        }
      ]
    },
    {
      "cell_type": "code",
      "metadata": {
        "id": "y5OMgn4G77pj",
        "colab_type": "code",
        "colab": {
          "base_uri": "https://localhost:8080/",
          "height": 101
        },
        "outputId": "7c97f8a5-579d-43ff-e5b4-54ab983739f0"
      },
      "source": [
        "df3['Friends'].describe()"
      ],
      "execution_count": 13,
      "outputs": [
        {
          "output_type": "execute_result",
          "data": {
            "text/plain": [
              "count              1200\n",
              "unique                3\n",
              "top       No difference\n",
              "freq                602\n",
              "Name: Friends, dtype: object"
            ]
          },
          "metadata": {
            "tags": []
          },
          "execution_count": 13
        }
      ]
    },
    {
      "cell_type": "code",
      "metadata": {
        "id": "kb7NFB1M8ANr",
        "colab_type": "code",
        "colab": {
          "base_uri": "https://localhost:8080/",
          "height": 296
        },
        "outputId": "17a88696-2733-4404-86f8-fe3b46705e2f"
      },
      "source": [
        "sns.countplot(df3['Friends'])"
      ],
      "execution_count": 15,
      "outputs": [
        {
          "output_type": "execute_result",
          "data": {
            "text/plain": [
              "<matplotlib.axes._subplots.AxesSubplot at 0x7f9016323be0>"
            ]
          },
          "metadata": {
            "tags": []
          },
          "execution_count": 15
        },
        {
          "output_type": "display_data",
          "data": {
            "image/png": "[encoded data removed]",
            "text/plain": [
              "<Figure size 432x288 with 1 Axes>"
            ]
          },
          "metadata": {
            "tags": [],
            "needs_background": "light"
          }
        }
      ]
    },
    {
      "cell_type": "code",
      "metadata": {
        "id": "OU529W4c8WF4",
        "colab_type": "code",
        "colab": {
          "base_uri": "https://localhost:8080/",
          "height": 248
        },
        "outputId": "2b8e8a07-1793-45c4-ca9d-99863790c980"
      },
      "source": [
        "l=df3['Friends'].unique()\n",
        "l=list(l)\n",
        "plt.pie(df3['Friends'].value_counts(),labels=l)\n",
        "\n",
        "plt.show()"
      ],
      "execution_count": 21,
      "outputs": [
        {
          "output_type": "display_data",
          "data": {
            "image/png": "[encoded data removed]",
            "text/plain": [
              "<Figure size 432x288 with 1 Axes>"
            ]
          },
          "metadata": {
            "tags": []
          }
        }
      ]
    },
    {
      "cell_type": "markdown",
      "metadata": {
        "id": "pBoHAB2f-2OB",
        "colab_type": "text"
      },
      "source": [
        "QUESTION 3"
      ]
    },
    {
      "cell_type": "code",
      "metadata": {
        "id": "ITWOTfGE-3kL",
        "colab_type": "code",
        "colab": {
          "base_uri": "https://localhost:8080/",
          "height": 195
        },
        "outputId": "117e293f-514f-4754-fd22-dd80d119fb2c"
      },
      "source": [
        "df2.head()"
      ],
      "execution_count": 22,
      "outputs": [
        {
          "output_type": "execute_result",
          "data": {
            "text/html": [
              "<div>\n",
              "<style scoped>\n",
              "    .dataframe tbody tr th:only-of-type {\n",
              "        vertical-align: middle;\n",
              "    }\n",
              "\n",
              "    .dataframe tbody tr th {\n",
              "        vertical-align: top;\n",
              "    }\n",
              "\n",
              "    .dataframe thead th {\n",
              "        text-align: right;\n",
              "    }\n",
              "</style>\n",
              "<table border=\"1\" class=\"dataframe\">\n",
              "  <thead>\n",
              "    <tr style=\"text-align: right;\">\n",
              "      <th></th>\n",
              "      <th>Unnamed: 0</th>\n",
              "      <th>Age</th>\n",
              "    </tr>\n",
              "  </thead>\n",
              "  <tbody>\n",
              "    <tr>\n",
              "      <th>0</th>\n",
              "      <td>1</td>\n",
              "      <td>43</td>\n",
              "    </tr>\n",
              "    <tr>\n",
              "      <th>1</th>\n",
              "      <td>2</td>\n",
              "      <td>42</td>\n",
              "    </tr>\n",
              "    <tr>\n",
              "      <th>2</th>\n",
              "      <td>3</td>\n",
              "      <td>48</td>\n",
              "    </tr>\n",
              "    <tr>\n",
              "      <th>3</th>\n",
              "      <td>4</td>\n",
              "      <td>49</td>\n",
              "    </tr>\n",
              "    <tr>\n",
              "      <th>4</th>\n",
              "      <td>5</td>\n",
              "      <td>56</td>\n",
              "    </tr>\n",
              "  </tbody>\n",
              "</table>\n",
              "</div>"
            ],
            "text/plain": [
              "   Unnamed: 0  Age\n",
              "0           1   43\n",
              "1           2   42\n",
              "2           3   48\n",
              "3           4   49\n",
              "4           5   56"
            ]
          },
          "metadata": {
            "tags": []
          },
          "execution_count": 22
        }
      ]
    },
    {
      "cell_type": "code",
      "metadata": {
        "id": "fS3dfjqr-6d8",
        "colab_type": "code",
        "colab": {
          "base_uri": "https://localhost:8080/",
          "height": 34
        },
        "outputId": "99da47c6-86ff-4ff4-c8c0-03707a3beab1"
      },
      "source": [
        "df2.shape"
      ],
      "execution_count": 23,
      "outputs": [
        {
          "output_type": "execute_result",
          "data": {
            "text/plain": [
              "(44, 2)"
            ]
          },
          "metadata": {
            "tags": []
          },
          "execution_count": 23
        }
      ]
    },
    {
      "cell_type": "code",
      "metadata": {
        "id": "U9GPmITg--gP",
        "colab_type": "code",
        "colab": {
          "base_uri": "https://localhost:8080/",
          "height": 168
        },
        "outputId": "b40aac36-9491-499b-edc7-dc1c7908e2e6"
      },
      "source": [
        "df2['Age'].describe()"
      ],
      "execution_count": 24,
      "outputs": [
        {
          "output_type": "execute_result",
          "data": {
            "text/plain": [
              "count    44.000000\n",
              "mean     44.977273\n",
              "std       9.749153\n",
              "min      29.000000\n",
              "25%      38.000000\n",
              "50%      43.500000\n",
              "75%      50.250000\n",
              "max      76.000000\n",
              "Name: Age, dtype: float64"
            ]
          },
          "metadata": {
            "tags": []
          },
          "execution_count": 24
        }
      ]
    },
    {
      "cell_type": "code",
      "metadata": {
        "id": "Hr8eUlxC_Cyp",
        "colab_type": "code",
        "colab": {
          "base_uri": "https://localhost:8080/",
          "height": 279
        },
        "outputId": "fe000367-a7e2-424a-91fa-6ca645399b1e"
      },
      "source": [
        "sns.boxplot(df2['Age'])\n",
        "plt.show()"
      ],
      "execution_count": 26,
      "outputs": [
        {
          "output_type": "display_data",
          "data": {
            "image/png": "[encoded data removed]",
            "text/plain": [
              "<Figure size 432x288 with 1 Axes>"
            ]
          },
          "metadata": {
            "tags": [],
            "needs_background": "light"
          }
        }
      ]
    },
    {
      "cell_type": "markdown",
      "metadata": {
        "id": "w9S25fBJDSL5",
        "colab_type": "text"
      },
      "source": [
        ""
      ]
    },
    {
      "cell_type": "markdown",
      "metadata": {
        "id": "PZjE1BVVAX-X",
        "colab_type": "text"
      },
      "source": [
        "Answer-The dataframe has 2 columns and 44 rows. Columns being an index column and an Age column. The mean value of the dataset is 44.97. The median (centre) is 43.5 taken from describe functions' 50% value. The spread is the standard deviation which is 9.749 for this dataset. Thier is one outlier as seen in the boxplot and it seems to be the max value of 76. The distribution is positively skewed as seen in the histogram."
      ]
    },
    {
      "cell_type": "markdown",
      "metadata": {
        "id": "vgmyIQ_JDcxl",
        "colab_type": "text"
      },
      "source": [
        "QUESTION 5"
      ]
    },
    {
      "cell_type": "code",
      "metadata": {
        "id": "GcaGtLK_DiSJ",
        "colab_type": "code",
        "colab": {
          "base_uri": "https://localhost:8080/",
          "height": 34
        },
        "outputId": "4bcaff57-b0ea-437f-dd5c-689af78c55e8"
      },
      "source": [
        "df2.shape"
      ],
      "execution_count": 27,
      "outputs": [
        {
          "output_type": "execute_result",
          "data": {
            "text/plain": [
              "(44, 2)"
            ]
          },
          "metadata": {
            "tags": []
          },
          "execution_count": 27
        }
      ]
    },
    {
      "cell_type": "code",
      "metadata": {
        "id": "_mibmmEzDkmS",
        "colab_type": "code",
        "colab": {
          "base_uri": "https://localhost:8080/",
          "height": 168
        },
        "outputId": "89362ecd-ad28-4b65-b917-ae1088fe0928"
      },
      "source": [
        "df2['Age'].describe()"
      ],
      "execution_count": 29,
      "outputs": [
        {
          "output_type": "execute_result",
          "data": {
            "text/plain": [
              "count    44.000000\n",
              "mean     44.977273\n",
              "std       9.749153\n",
              "min      29.000000\n",
              "25%      38.000000\n",
              "50%      43.500000\n",
              "75%      50.250000\n",
              "max      76.000000\n",
              "Name: Age, dtype: float64"
            ]
          },
          "metadata": {
            "tags": []
          },
          "execution_count": 29
        }
      ]
    },
    {
      "cell_type": "markdown",
      "metadata": {
        "id": "O2CP0hHnEE7B",
        "colab_type": "text"
      },
      "source": [
        " There are 44 observations in this dataset\n",
        "*   Mean age of actors who won the Oscar is 44.97\n",
        "*   Standard Deviation is 9.749153\n",
        "*   Minimum value is 29\n",
        "*   First Quartile value is 38\n",
        "*   Second Quartile value (median) is 43.5\n",
        "*   Third quartile value is 50\n",
        "*   Maximum value is 76"
      ]
    },
    {
      "cell_type": "markdown",
      "metadata": {
        "id": "C97PYwGzEb5e",
        "colab_type": "text"
      },
      "source": [
        "QUESTION 6"
      ]
    },
    {
      "cell_type": "code",
      "metadata": {
        "id": "0yaPyry3EfAv",
        "colab_type": "code",
        "colab": {
          "base_uri": "https://localhost:8080/",
          "height": 168
        },
        "outputId": "472a3ff0-d098-4fd7-c008-9549cb2d9a6e"
      },
      "source": [
        "df2['Age'].describe()"
      ],
      "execution_count": 31,
      "outputs": [
        {
          "output_type": "execute_result",
          "data": {
            "text/plain": [
              "count    44.000000\n",
              "mean     44.977273\n",
              "std       9.749153\n",
              "min      29.000000\n",
              "25%      38.000000\n",
              "50%      43.500000\n",
              "75%      50.250000\n",
              "max      76.000000\n",
              "Name: Age, dtype: float64"
            ]
          },
          "metadata": {
            "tags": []
          },
          "execution_count": 31
        }
      ]
    },
    {
      "cell_type": "code",
      "metadata": {
        "id": "9nruQ0MPElOh",
        "colab_type": "code",
        "colab": {
          "base_uri": "https://localhost:8080/",
          "height": 34
        },
        "outputId": "83cc1c14-8799-4e1e-b87c-51f5193a31bf"
      },
      "source": [
        "range1=df2['Age'].describe()['max']-df2['Age'].describe()['min']\n",
        "print(range1)"
      ],
      "execution_count": 32,
      "outputs": [
        {
          "output_type": "stream",
          "text": [
            "47.0\n"
          ],
          "name": "stdout"
        }
      ]
    },
    {
      "cell_type": "code",
      "metadata": {
        "id": "YySXhKBIFSYl",
        "colab_type": "code",
        "colab": {
          "base_uri": "https://localhost:8080/",
          "height": 34
        },
        "outputId": "8e920e16-0814-476c-d8a0-ae948ac78ec4"
      },
      "source": [
        "range2=df2['Age'].describe()['75%']-df2['Age'].describe()['25%']\n",
        "print(range2)"
      ],
      "execution_count": 34,
      "outputs": [
        {
          "output_type": "stream",
          "text": [
            "12.25\n"
          ],
          "name": "stdout"
        }
      ]
    },
    {
      "cell_type": "markdown",
      "metadata": {
        "id": "gWIYFNKpFopm",
        "colab_type": "text"
      },
      "source": [
        "* Half of the actors won the Oscar before 43.5 (median age)\n",
        "*   Range covered by all the actors is 47 years\n",
        "*   Range covered by middle 50% of the ages is 12.25 year"
      ]
    },
    {
      "cell_type": "markdown",
      "metadata": {
        "id": "BGKyd9GzFooL",
        "colab_type": "text"
      },
      "source": [
        "QUESTION 7\n"
      ]
    },
    {
      "cell_type": "code",
      "metadata": {
        "id": "e3-tfj81F6QS",
        "colab_type": "code",
        "colab": {
          "base_uri": "https://localhost:8080/",
          "height": 195
        },
        "outputId": "b8cf3d3d-256f-4e3d-9f79-3d6b4844bd88"
      },
      "source": [
        "df5.head()"
      ],
      "execution_count": 35,
      "outputs": [
        {
          "output_type": "execute_result",
          "data": {
            "text/html": [
              "<div>\n",
              "<style scoped>\n",
              "    .dataframe tbody tr th:only-of-type {\n",
              "        vertical-align: middle;\n",
              "    }\n",
              "\n",
              "    .dataframe tbody tr th {\n",
              "        vertical-align: top;\n",
              "    }\n",
              "\n",
              "    .dataframe thead th {\n",
              "        text-align: right;\n",
              "    }\n",
              "</style>\n",
              "<table border=\"1\" class=\"dataframe\">\n",
              "  <thead>\n",
              "    <tr style=\"text-align: right;\">\n",
              "      <th></th>\n",
              "      <th>Unnamed: 0</th>\n",
              "      <th>Class.I</th>\n",
              "      <th>Class.II</th>\n",
              "      <th>Class.III</th>\n",
              "    </tr>\n",
              "  </thead>\n",
              "  <tbody>\n",
              "    <tr>\n",
              "      <th>0</th>\n",
              "      <td>1</td>\n",
              "      <td>1</td>\n",
              "      <td>1</td>\n",
              "      <td>1</td>\n",
              "    </tr>\n",
              "    <tr>\n",
              "      <th>1</th>\n",
              "      <td>2</td>\n",
              "      <td>1</td>\n",
              "      <td>1</td>\n",
              "      <td>2</td>\n",
              "    </tr>\n",
              "    <tr>\n",
              "      <th>2</th>\n",
              "      <td>3</td>\n",
              "      <td>5</td>\n",
              "      <td>1</td>\n",
              "      <td>3</td>\n",
              "    </tr>\n",
              "    <tr>\n",
              "      <th>3</th>\n",
              "      <td>4</td>\n",
              "      <td>5</td>\n",
              "      <td>1</td>\n",
              "      <td>4</td>\n",
              "    </tr>\n",
              "    <tr>\n",
              "      <th>4</th>\n",
              "      <td>5</td>\n",
              "      <td>5</td>\n",
              "      <td>1</td>\n",
              "      <td>5</td>\n",
              "    </tr>\n",
              "  </tbody>\n",
              "</table>\n",
              "</div>"
            ],
            "text/plain": [
              "   Unnamed: 0  Class.I  Class.II  Class.III\n",
              "0           1        1         1          1\n",
              "1           2        1         1          2\n",
              "2           3        5         1          3\n",
              "3           4        5         1          4\n",
              "4           5        5         1          5"
            ]
          },
          "metadata": {
            "tags": []
          },
          "execution_count": 35
        }
      ]
    },
    {
      "cell_type": "code",
      "metadata": {
        "id": "0XwMRWTIF8PS",
        "colab_type": "code",
        "colab": {
          "base_uri": "https://localhost:8080/",
          "height": 34
        },
        "outputId": "ac3264ce-ca90-4276-e6cf-c13e5d039615"
      },
      "source": [
        "print(df5['Class.I'].std())"
      ],
      "execution_count": 37,
      "outputs": [
        {
          "output_type": "stream",
          "text": [
            "1.5689290811054724\n"
          ],
          "name": "stdout"
        }
      ]
    },
    {
      "cell_type": "code",
      "metadata": {
        "id": "iOoRHwwTGBNZ",
        "colab_type": "code",
        "colab": {
          "base_uri": "https://localhost:8080/",
          "height": 34
        },
        "outputId": "a4fd8796-26aa-482c-a346-534aff19e0c5"
      },
      "source": [
        "print(df5['Class.II'].std())"
      ],
      "execution_count": 38,
      "outputs": [
        {
          "output_type": "stream",
          "text": [
            "4.0\n"
          ],
          "name": "stdout"
        }
      ]
    },
    {
      "cell_type": "code",
      "metadata": {
        "id": "mv7Z2RcsGJep",
        "colab_type": "code",
        "colab": {
          "base_uri": "https://localhost:8080/",
          "height": 34
        },
        "outputId": "db153609-f1e0-472d-8f84-87f9d635d312"
      },
      "source": [
        "print(df5['Class.III'].std())"
      ],
      "execution_count": 39,
      "outputs": [
        {
          "output_type": "stream",
          "text": [
            "2.6311740579210876\n"
          ],
          "name": "stdout"
        }
      ]
    },
    {
      "cell_type": "markdown",
      "metadata": {
        "id": "QVwAl4wNGTcp",
        "colab_type": "text"
      },
      "source": [
        "Answer- Standard deviation for Class.I is 1.56, for Class.II is 4 and for Class.III is 2.63"
      ]
    },
    {
      "cell_type": "markdown",
      "metadata": {
        "id": "7zhN9W_tGipk",
        "colab_type": "text"
      },
      "source": [
        "QUESTION 8"
      ]
    },
    {
      "cell_type": "code",
      "metadata": {
        "id": "YQmFUcYjGl3Q",
        "colab_type": "code",
        "colab": {
          "base_uri": "https://localhost:8080/",
          "height": 282
        },
        "outputId": "00fba97c-cfec-4bb2-c472-d875c450d570"
      },
      "source": [
        "df5['Class.I'].plot(kind='hist')"
      ],
      "execution_count": 51,
      "outputs": [
        {
          "output_type": "execute_result",
          "data": {
            "text/plain": [
              "<matplotlib.axes._subplots.AxesSubplot at 0x7f901406acf8>"
            ]
          },
          "metadata": {
            "tags": []
          },
          "execution_count": 51
        },
        {
          "output_type": "display_data",
          "data": {
            "image/png": "[encoded data removed]",
            "text/plain": [
              "<Figure size 432x288 with 1 Axes>"
            ]
          },
          "metadata": {
            "tags": [],
            "needs_background": "light"
          }
        }
      ]
    },
    {
      "cell_type": "code",
      "metadata": {
        "id": "V6LvQjsnGt--",
        "colab_type": "code",
        "colab": {
          "base_uri": "https://localhost:8080/",
          "height": 282
        },
        "outputId": "f19907c9-58c6-4196-d3c7-d35e69713515"
      },
      "source": [
        "df5['Class.II'].plot(kind='hist')"
      ],
      "execution_count": 52,
      "outputs": [
        {
          "output_type": "execute_result",
          "data": {
            "text/plain": [
              "<matplotlib.axes._subplots.AxesSubplot at 0x7f901407cc18>"
            ]
          },
          "metadata": {
            "tags": []
          },
          "execution_count": 52
        },
        {
          "output_type": "display_data",
          "data": {
            "image/png": "[encoded data removed]",
            "text/plain": [
              "<Figure size 432x288 with 1 Axes>"
            ]
          },
          "metadata": {
            "tags": [],
            "needs_background": "light"
          }
        }
      ]
    },
    {
      "cell_type": "code",
      "metadata": {
        "id": "Sga0_oysHC4z",
        "colab_type": "code",
        "colab": {
          "base_uri": "https://localhost:8080/",
          "height": 282
        },
        "outputId": "602d66be-cce2-4182-96e7-577d37c39e2d"
      },
      "source": [
        "df5['Class.III'].plot(kind='hist')"
      ],
      "execution_count": 53,
      "outputs": [
        {
          "output_type": "execute_result",
          "data": {
            "text/plain": [
              "<matplotlib.axes._subplots.AxesSubplot at 0x7f9013cd65c0>"
            ]
          },
          "metadata": {
            "tags": []
          },
          "execution_count": 53
        },
        {
          "output_type": "display_data",
          "data": {
            "image/png": "[encoded data removed]",
            "text/plain": [
              "<Figure size 432x288 with 1 Axes>"
            ]
          },
          "metadata": {
            "tags": [],
            "needs_background": "light"
          }
        }
      ]
    },
    {
      "cell_type": "markdown",
      "metadata": {
        "id": "Eu6XQrDrHMJx",
        "colab_type": "text"
      },
      "source": [
        "Answer- Class.I has a mean of approximately 5. In Class.II majority of the observations are far from mean therefore standard deviation is higher. Class.III has a mix of both close and far from mean observations. Therefore Class.I has the smallest SD followed by Class.III and Class.II"
      ]
    },
    {
      "cell_type": "code",
      "metadata": {
        "id": "aS334oczHPx8",
        "colab_type": "code",
        "colab": {}
      },
      "source": [
        ""
      ],
      "execution_count": null,
      "outputs": []
    }
  ]
}